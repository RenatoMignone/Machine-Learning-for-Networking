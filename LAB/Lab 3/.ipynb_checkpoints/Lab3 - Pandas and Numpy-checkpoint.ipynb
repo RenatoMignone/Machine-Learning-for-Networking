{
 "cells": [
  {
   "cell_type": "markdown",
   "source": [
    "# Lab 3: Pandas and Matplotlib"
   ],
   "metadata": {
    "collapsed": false
   },
   "id": "196a99875484390f"
  },
  {
   "cell_type": "markdown",
   "source": [
    "## Introduction \n",
    "The main objective of this laboratory is to put into practice what you have learned on the Pandas and Matplotlib libraries.\n",
    "This laboratory will let you carry out a preparatory data exploration analysis on two realworld\n",
    "datasets, and practice the advanced functionalities of both libraries."
   ],
   "metadata": {
    "collapsed": false
   },
   "id": "cbb12efa1c199f5d"
  },
  {
   "cell_type": "markdown",
   "source": [
    "## 1 Preliminary Steps\n",
    "### 1.1 Importing the libraries\n",
    "Make sure that both the libraries are installed on your machine. If not, install them using the\n",
    "following commands:\n",
    "```python\n",
    "!pip install pandas\n",
    "!pip install matplotlib\n",
    "```\n",
    "then check their availability by importing them:\n",
    "```python\n",
    "import pandas as pd\n",
    "import matplotlib.pyplot as plt\n",
    "```"
   ],
   "metadata": {
    "collapsed": false
   },
   "id": "37a2992289be64d4"
  },
  {
   "cell_type": "code",
   "execution_count": 1,
   "outputs": [
    {
     "name": "stdout",
     "output_type": "stream",
     "text": [
      "/bin/bash: warning: setlocale: LC_ALL: cannot change locale (en_US.UTF-8)\r\n",
      "Requirement already satisfied: pandas in /home/gaber/miniconda3/envs/dcr/lib/python3.11/site-packages (1.5.3)\r\n",
      "Requirement already satisfied: python-dateutil>=2.8.1 in /home/gaber/miniconda3/envs/dcr/lib/python3.11/site-packages (from pandas) (2.8.2)\r\n",
      "Requirement already satisfied: pytz>=2020.1 in /home/gaber/miniconda3/envs/dcr/lib/python3.11/site-packages (from pandas) (2022.7)\r\n",
      "Requirement already satisfied: numpy>=1.21.0 in /home/gaber/miniconda3/envs/dcr/lib/python3.11/site-packages (from pandas) (1.25.0)\r\n",
      "Requirement already satisfied: six>=1.5 in /home/gaber/miniconda3/envs/dcr/lib/python3.11/site-packages (from python-dateutil>=2.8.1->pandas) (1.16.0)\r\n",
      "/bin/bash: warning: setlocale: LC_ALL: cannot change locale (en_US.UTF-8)\r\n",
      "Requirement already satisfied: matplotlib in /home/gaber/miniconda3/envs/dcr/lib/python3.11/site-packages (3.7.1)\r\n",
      "Requirement already satisfied: contourpy>=1.0.1 in /home/gaber/miniconda3/envs/dcr/lib/python3.11/site-packages (from matplotlib) (1.0.5)\r\n",
      "Requirement already satisfied: cycler>=0.10 in /home/gaber/miniconda3/envs/dcr/lib/python3.11/site-packages (from matplotlib) (0.11.0)\r\n",
      "Requirement already satisfied: fonttools>=4.22.0 in /home/gaber/miniconda3/envs/dcr/lib/python3.11/site-packages (from matplotlib) (4.25.0)\r\n",
      "Requirement already satisfied: kiwisolver>=1.0.1 in /home/gaber/miniconda3/envs/dcr/lib/python3.11/site-packages (from matplotlib) (1.4.4)\r\n",
      "Requirement already satisfied: numpy>=1.20 in /home/gaber/miniconda3/envs/dcr/lib/python3.11/site-packages (from matplotlib) (1.25.0)\r\n",
      "Requirement already satisfied: packaging>=20.0 in /home/gaber/miniconda3/envs/dcr/lib/python3.11/site-packages (from matplotlib) (23.0)\r\n",
      "Requirement already satisfied: pillow>=6.2.0 in /home/gaber/miniconda3/envs/dcr/lib/python3.11/site-packages (from matplotlib) (9.4.0)\r\n",
      "Requirement already satisfied: pyparsing>=2.3.1 in /home/gaber/miniconda3/envs/dcr/lib/python3.11/site-packages (from matplotlib) (3.0.9)\r\n",
      "Requirement already satisfied: python-dateutil>=2.7 in /home/gaber/miniconda3/envs/dcr/lib/python3.11/site-packages (from matplotlib) (2.8.2)\r\n",
      "Requirement already satisfied: six>=1.5 in /home/gaber/miniconda3/envs/dcr/lib/python3.11/site-packages (from python-dateutil>=2.7->matplotlib) (1.16.0)\r\n"
     ]
    }
   ],
   "source": [
    "%matplotlib inline\n",
    "!pip install pandas\n",
    "!pip install matplotlib\n",
    "\n",
    "import pandas as pd\n",
    "import matplotlib.pyplot as plt"
   ],
   "metadata": {
    "collapsed": false,
    "ExecuteTime": {
     "end_time": "2023-10-26T12:48:57.125819400Z",
     "start_time": "2023-10-26T12:48:49.786394800Z"
    }
   },
   "id": "bb5ac11f553dadbf"
  },
  {
   "cell_type": "markdown",
   "source": [],
   "metadata": {
    "collapsed": false
   },
   "id": "d558f4ef3e491651"
  },
  {
   "cell_type": "markdown",
   "source": [
    "### 1.2 Loading the datasets\n",
    "In this laboratory we will use the two following datasets:\n",
    "- **New York Point Of Interest** dataset: a dataset containing the list of the Points of Interest (POI)\n",
    "in New York City. The dataset is available at the following link: <https://github.com/dbdmg/data-science-lab/raw/master/datasets/NYC_POIs.zip>\n",
    "- **IRIS** dataset: a dataset containing the measurements of the sepal and petal of 150 iris flowers (already introduced in previous laboratories).\n",
    "The dataset is available as a CSV file at the following link: <https://archive.ics.uci.edu/ml/machine-learning-databases/iris/iris.data>\n",
    "\n",
    "### 1.2.1 New York Point Of Interest dataset\n",
    "In the zip file above you will find three files:\n",
    "- 'pois_all_info': the main dataset file containing the list of all the POIs in New York City. It is provided in TSV (Tab Separated Values) format. This format is very similar to the CSV one, the only difference is the separator used to split the fields in a row: here it is a TAB character\n",
    "- 'ny_municipality_pois_id.csv': a file containing the list of the POIs belonging to the New York City municipality only. It is provided in the CSV format.\n",
    "- New_York_City_Map.PNG: a map of the New York City municipality. It is provided in the PNG format.\n",
    "\n",
    "In the first file you will find the New York Point Of Interest dataset which collects a sub-sample of the point of interests (POI) available in the city of New York. It contains the coordinates of each point of interest and the category to which it belongs to, specifying the type of the POI, for each POI category. There are four possible categories of POIs: amenity, shop, public_transport and highway.\n",
    "The fields available in the dataset are the following:\n",
    "- **@id**: the unique identifier of the POI;\n",
    "- **@lat**: the latitude coordinate of the POI in decimal degrees;\n",
    "- **@lon**: the longitude coordinate of the POI in decimal degrees;\n",
    "- **amenity**, **name**: if the POI category is amenity its type is reported in this field followed by the name of the POI;\n",
    "- **shop**: if the POI category is shop its type is reported in this field;\n",
    "- **public_transport**: if the POI category is public_transport its type is reported in this field;\n",
    "- **highway**: if the POI category is highway its type is reported in this field.\n",
    "\n",
    "In the second file we have a list of the POIs belonging only to the New York City municipality. We will use it to select the NY POIs from the first file.\n",
    "\n",
    "In the third file we have a map of the New York City municipality. This map will be used to plot the POIs on the map.\n",
    "\n",
    "\n",
    "To download the zip file use the following command:\n",
    "```python\n",
    "### linux users\n",
    "!wget  https://github.com/dbdmg/data-science-lab/raw/master/datasets/NYC_POIs.zip\n",
    "### windows users\n",
    "!pip install wget\n",
    "import wget\n",
    "wget.download(\"https://github.com/dbdmg/data-science-lab/raw/master/datasets/NYC_POIs.zip\")\n",
    "```\n",
    "then unzip it with the following command:\n",
    "```python\n",
    "import shutil\n",
    "shutil.unpack_archive(\"NYC_POIs.zip\", \".\")\n",
    "```\n",
    "\n",
    "Be sure that you have extract it correctly by displaying the third file with the following command:\n",
    "```python\n",
    "import matplotlib.pyplot as plt\n",
    "\n",
    "img = plt.imread(\"New_York_City_Map.PNG\")\n",
    "plt.imshow(img)\n",
    "plt.show()\n",
    "```\n"
   ],
   "metadata": {
    "collapsed": false
   },
   "id": "ddd332fd461f309d"
  },
  {
   "cell_type": "code",
   "execution_count": 1,
   "outputs": [],
   "source": [],
   "metadata": {
    "collapsed": false,
    "ExecuteTime": {
     "end_time": "2023-10-26T12:48:57.132352100Z",
     "start_time": "2023-10-26T12:48:57.124820100Z"
    }
   },
   "id": "1f69be4267d59470"
  },
  {
   "cell_type": "code",
   "execution_count": 1,
   "outputs": [],
   "source": [],
   "metadata": {
    "collapsed": false,
    "ExecuteTime": {
     "end_time": "2023-10-26T12:48:57.132352100Z",
     "start_time": "2023-10-26T12:48:57.129343400Z"
    }
   },
   "id": "c4c575e8f4ee8fd6"
  },
  {
   "cell_type": "markdown",
   "source": [
    "## 2 Exercises\n",
    "### 2.1 Data exploration of Point Of Interest dataset\n",
    "\n",
    "#### 2.1.1 Loading the dataset\n",
    "Load the dataset in a Pandas DataFrame. The dataset is provided in the TSV format, so you have to use the read_csv function of Pandas specifying \n",
    "- the separator to use to split the fields in a row. The separator is a TAB character, so you have to use the following parameter: `sep='\\t'`.\n",
    "- the id of the column to use as index. The id of the column is `@id`, so you have to use the following parameter: `index_col='@id'`.\n",
    "\n",
    "Show the first rows of the dataset to understand what's inside. "
   ],
   "metadata": {
    "collapsed": false
   },
   "id": "3391a31ca13cd6a"
  },
  {
   "cell_type": "code",
   "execution_count": 1,
   "outputs": [],
   "source": [],
   "metadata": {
    "collapsed": false,
    "ExecuteTime": {
     "end_time": "2023-10-26T12:48:57.163947300Z",
     "start_time": "2023-10-26T12:48:57.135353500Z"
    }
   },
   "id": "fbebc8e69af59e98"
  },
  {
   "cell_type": "markdown",
   "source": [
    "#### 2.1.2 Plotting POIs on the map\n",
    "Plot the POIs on the map of the New York City municipality. To do this, you have to use the\n",
    "`scatter` function of Matplotlib. \n",
    " - The `scatter` function takes as input the x and y coordinates of the  points to plot. \n",
    "  - Set 1 as the dimension of the points, otherwise it may be difficult to visualize them on the map \n",
    "\n",
    "\n",
    "Also to plot the map we use the `imread` and the `imshow` functions of Matplotlib. \n",
    "- The `imread` function takes as input the path of the image to load. We add also `extent= [-74.258, -73.7, 40.49,40.92]` as parameter to the `imshow` function to map the image pixels to the coordinates of the city.\n",
    "- The `imshow` function takes as input the image to plot. \n",
    "\n"
   ],
   "metadata": {
    "collapsed": false
   },
   "id": "62d904505dc3f313"
  },
  {
   "cell_type": "code",
   "execution_count": 2,
   "outputs": [],
   "source": [
    "def plot_map(pois_df):\n",
    "    fig, ax = plt.subplots(figsize=(12,8))\n",
    "    nyc_img = plt.imread('./New_York_City_Map.PNG')\n",
    "    ax.imshow(nyc_img, extent=[-74.258, -73.7, 40.49,40.92])\n",
    "\n",
    "    # PLOT THE POIs ON THE MAP \n",
    "    \n",
    "    plt.show()\n"
   ],
   "metadata": {
    "collapsed": false,
    "ExecuteTime": {
     "end_time": "2023-10-26T12:48:57.163947300Z",
     "start_time": "2023-10-26T12:48:57.141860800Z"
    }
   },
   "id": "e34e50f4a3660e1f"
  },
  {
   "cell_type": "markdown",
   "source": [
    "#### 2.1.2 Filter only POIS in NY municipality**\n",
    "Filter the POIs in the New York City municipality. To do this, you have to:\n",
    "- Read the second file containing the list of the POIs belonging to the New York City municipality only.\n",
    "The second file does not contain a header, so you have to specify the `header=None` parameter to the `read_csv` function and set the column name to `@id` using the `names` parameter.\n",
    "\n",
    "- Filter the POIs in the New York City municipality selecting the @id of the POIs in the municipality. \n",
    "Remember that you can filter a dataframe only using a list or a series. \n",
    "\n",
    "Then plot the resulting dataframe on the NY map using the `plot_map` function defined above.\n"
   ],
   "metadata": {
    "collapsed": false
   },
   "id": "8000e6f1582e054a"
  },
  {
   "cell_type": "code",
   "execution_count": 2,
   "outputs": [],
   "source": [],
   "metadata": {
    "collapsed": false,
    "ExecuteTime": {
     "end_time": "2023-10-26T12:48:57.196068600Z",
     "start_time": "2023-10-26T12:48:57.145887900Z"
    }
   },
   "id": "fd7699ae992eb79"
  },
  {
   "cell_type": "code",
   "execution_count": 2,
   "outputs": [],
   "source": [],
   "metadata": {
    "collapsed": false,
    "ExecuteTime": {
     "end_time": "2023-10-26T12:48:57.196068600Z",
     "start_time": "2023-10-26T12:48:57.161920200Z"
    }
   },
   "id": "e9920e8755a32b32"
  },
  {
   "cell_type": "code",
   "execution_count": 2,
   "outputs": [],
   "source": [],
   "metadata": {
    "collapsed": false,
    "ExecuteTime": {
     "end_time": "2023-10-26T12:48:57.196068600Z",
     "start_time": "2023-10-26T12:48:57.165473100Z"
    }
   },
   "id": "91f64984e350f75b"
  },
  {
   "cell_type": "markdown",
   "source": [
    "#### 2.1.3 Add a category column to the dataframe\n",
    "Add a category column to the dataframe containing the category of each POI (amenity, shop, public_transport or highway) according to which field is not NaN.\n",
    "To do so you can use the `notnull()` function of Pandas dataframes.\n"
   ],
   "metadata": {
    "collapsed": false
   },
   "id": "ddfe49980fc0a15a"
  },
  {
   "cell_type": "code",
   "execution_count": 2,
   "outputs": [],
   "source": [],
   "metadata": {
    "collapsed": false,
    "ExecuteTime": {
     "end_time": "2023-10-26T12:48:57.196068600Z",
     "start_time": "2023-10-26T12:48:57.166484300Z"
    }
   },
   "id": "6d46cd833daee329"
  },
  {
   "cell_type": "markdown",
   "source": [
    "#### 2.1.4 Analyze POIs per category\n",
    "Now let's analyze the distribution of the POI types for each POI category. \n",
    "To do so, you have to:\n",
    "- Group the POIs by category.\n",
    "- Count the number of occurrences of each category.\n",
    "- With the obtained values, plot a bar chart using the `bar` function of Matplotlib.\n",
    "\n"
   ],
   "metadata": {
    "collapsed": false
   },
   "id": "1a26fc021eb974f0"
  },
  {
   "cell_type": "code",
   "execution_count": 2,
   "outputs": [],
   "source": [],
   "metadata": {
    "collapsed": false,
    "ExecuteTime": {
     "end_time": "2023-10-26T12:48:57.218895200Z",
     "start_time": "2023-10-26T12:48:57.169482700Z"
    }
   },
   "id": "f768bc760bf8a7ba"
  },
  {
   "cell_type": "markdown",
   "source": [
    "\n",
    "#### 2.1.5 Count top-frequent amenity types\n",
    "Count the top-frequent amenity types. To do this, you have to:\n",
    "- Group the POIs by amenity type.\n",
    "- Count the number of occurrences of each amenity type.\n",
    "- Sort the amenity types by frequency in descending order (use the `sort_values` function of Pandas).\n"
   ],
   "metadata": {
    "collapsed": false
   },
   "id": "a10fa97c25761390"
  },
  {
   "cell_type": "code",
   "execution_count": 2,
   "outputs": [],
   "source": [],
   "metadata": {
    "collapsed": false,
    "ExecuteTime": {
     "end_time": "2023-10-26T12:48:57.220894400Z",
     "start_time": "2023-10-26T12:48:57.169482700Z"
    }
   },
   "id": "accacb7340066cde"
  },
  {
   "cell_type": "code",
   "execution_count": 2,
   "outputs": [],
   "source": [],
   "metadata": {
    "collapsed": false,
    "ExecuteTime": {
     "end_time": "2023-10-26T12:48:57.221896100Z",
     "start_time": "2023-10-26T12:48:57.176001300Z"
    }
   },
   "id": "75fa5424a68f042c"
  },
  {
   "cell_type": "markdown",
   "source": [
    "#### 2.1.6 Plot the top-frequent amenity types on the map\n",
    "\n",
    "Plot the top-frequent amenity types on the map. To do this, for each of the top 5 amenity type you have to:\n",
    "- Filter the POIs by amenity type.\n",
    "- Plot the POIs on the map using the `scatter` function of Matplotlib (remember to set the `label` for each amenity type).\n",
    "- Add the legend to the map using the `legend` function of Matplotlib.\n"
   ],
   "metadata": {
    "collapsed": false
   },
   "id": "5d259d5b7bd52d45"
  },
  {
   "cell_type": "code",
   "execution_count": 2,
   "outputs": [],
   "source": [],
   "metadata": {
    "collapsed": false,
    "ExecuteTime": {
     "end_time": "2023-10-26T12:48:57.221896100Z",
     "start_time": "2023-10-26T12:48:57.178520700Z"
    }
   },
   "id": "b33778fb97d41d13"
  },
  {
   "cell_type": "markdown",
   "source": [
    "#### 2.1.7 Analyze POIs within each category\n",
    "Now let's analyze the distribution of the POI types within each POI category.\n",
    "To do so, you have to:\n",
    "- Filter the POIs by category.\n",
    "- Group the POIs by the different category type (i.e., amenity type, shop type, highway type, public_transport type).\n",
    "- Select the 5 most frequent category types (i.e., the 5 most frequent amenity types, the 5 most frequent shop types, etc.). \n",
    "- Plot the distribution of the POI category types with the `bar` function of Matplotlib.\n",
    "\n",
    "*Note*: I want you to plot the four histograms in the same figure. To do so, you have to use the `subplot` function of Matplotlib. Specify also the title of each subplot according to the analysed category.\n"
   ],
   "metadata": {
    "collapsed": false
   },
   "id": "1ed859d412d5de41"
  },
  {
   "cell_type": "code",
   "execution_count": 2,
   "outputs": [],
   "source": [],
   "metadata": {
    "collapsed": false,
    "ExecuteTime": {
     "end_time": "2023-10-26T12:48:57.221896100Z",
     "start_time": "2023-10-26T12:48:57.182038200Z"
    }
   },
   "id": "ebd24d16d629037e"
  },
  {
   "cell_type": "markdown",
   "source": [
    "### 2.2 Data exploration of IRIS dataset\n",
    "#### 2.2.1 Loading the dataset\n",
    "Load the dataset in a Pandas DataFrame. The dataset is provided in the CSV format, but remember that it has no header and so you have to specify the column names `['sepal_length', 'sepal_width', 'petal_length', 'petal_width', 'class']`.\n",
    "\n"
   ],
   "metadata": {
    "collapsed": false
   },
   "id": "ef8085879313c5ad"
  },
  {
   "cell_type": "code",
   "execution_count": 2,
   "outputs": [],
   "source": [],
   "metadata": {
    "collapsed": false,
    "ExecuteTime": {
     "end_time": "2023-10-26T12:48:57.221896100Z",
     "start_time": "2023-10-26T12:48:57.187555700Z"
    }
   },
   "id": "cb0f9c9c13f39109"
  },
  {
   "cell_type": "markdown",
   "source": [
    "#### 2.2.2 Analyze the distribution of the features\n",
    "Analyze the distribution of the features. To do this, you have to:\n",
    "- Plot the distribution of each feature using the `box` function of Matplotlib.\n",
    "\n",
    "*Note*: to plot the four box plots within the same figure you have to pass a list of the four features to the `box` function of Matplotlib, together with a list of labels.\n"
   ],
   "metadata": {
    "collapsed": false
   },
   "id": "63347d2d32ee9e6c"
  },
  {
   "cell_type": "code",
   "execution_count": 2,
   "outputs": [],
   "source": [],
   "metadata": {
    "collapsed": false,
    "ExecuteTime": {
     "end_time": "2023-10-26T12:48:57.221896100Z",
     "start_time": "2023-10-26T12:48:57.191553800Z"
    }
   },
   "id": "97a40f5d6f13c0e4"
  },
  {
   "cell_type": "markdown",
   "source": [
    "#### 2.2.3 Analyze the distribution of the features per class\n",
    "\n",
    "For each class of the dataset, analyze the distribution of the features. To do this, you have to:\n",
    "- Filter the data by class.\n",
    "- Select the features of each class.\n",
    "- Plot the distribution of each feature using the `box` function of Matplotlib.\n",
    "\n",
    "This time note that you have to plot the four box plots in four different figures. To do so, you have to use the `subplot` function of Matplotlib.\n",
    "\n"
   ],
   "metadata": {
    "collapsed": false
   },
   "id": "ceb954fa64787b40"
  },
  {
   "cell_type": "code",
   "execution_count": 2,
   "outputs": [],
   "source": [],
   "metadata": {
    "collapsed": false,
    "ExecuteTime": {
     "end_time": "2023-10-26T12:48:57.245262200Z",
     "start_time": "2023-10-26T12:48:57.195068400Z"
    }
   },
   "id": "acc6da1510b5e22e"
  },
  {
   "cell_type": "markdown",
   "source": [
    "Can you guess which features are the most discriminative to distinguish the different classes?\n",
    "\n",
    "@insert the answer here\n"
   ],
   "metadata": {
    "collapsed": false
   },
   "id": "c51ba893b4537df3"
  },
  {
   "cell_type": "markdown",
   "source": [],
   "metadata": {
    "collapsed": false
   },
   "id": "31aadd05e547deb9"
  },
  {
   "cell_type": "markdown",
   "source": [
    "#### 2.2.4 Analyze the distribution of the features per class (2)\n",
    "\n",
    "By using a `scatter` plot this time plot the distribution of data per class taking into considerations two features at a time. To do this, you have to:\n",
    "- Select the two features to plot.  Use the `itertools.combinations` function to generate all the possible combinations of features.\n",
    "- Color the samples according to their class. To do this, you have to use the `c` parameter of the `scatter` function of Matplotlib.\n",
    "- Add the legend to the plot using the `legend` function of Matplotlib.\n",
    "\n",
    "\n",
    "*Note*: to determine the number of plots in advance remember that this is a combination of elements problem without repetition. Therefore, the number of possible combinations is $C_{4}^{2} = \\frac{4!}{2!(4-2)!} = 6$.\n"
   ],
   "metadata": {
    "collapsed": false
   },
   "id": "27e15c2f7255ff87"
  },
  {
   "cell_type": "code",
   "execution_count": 2,
   "outputs": [],
   "source": [],
   "metadata": {
    "collapsed": false,
    "ExecuteTime": {
     "end_time": "2023-10-26T12:48:57.246278100Z",
     "start_time": "2023-10-26T12:48:57.198428500Z"
    }
   },
   "id": "cb8f3113ad7c26be"
  },
  {
   "cell_type": "markdown",
   "source": [
    "Does the previous plot confirm your intuition about the most discriminative features?\n",
    "@ insert the answer here\n"
   ],
   "metadata": {
    "collapsed": false
   },
   "id": "e46e65b29a7fd9dc"
  },
  {
   "cell_type": "markdown",
   "source": [
    "#### ($\\star$) 2.2.5 Plot closest samples and class means \n",
    "Taking into consideration the two most discriminative features, for a given sample plot the most similar samples from each class and the means of the classes. To do this you have to:\n",
    "- select a random sample. Use the `sample()` function of Pandas dataframes which returns a random sample.\n",
    "- plot the selected sample with a square marker\n",
    "- compute the euclidean distance between the selected sample and all the other samples considering the two most discriminative features. Use the `norm` function of Numpy to compute the euclidean distance.\n",
    "- select the most similar sample from each class\n",
    "- plot the most similar samples from each class (with different labels and colours)\n",
    "- plot the means of the classes. The marker of the means should be different from the marker of the samples and should be a star marker if the closest sample (of the three) belongs to the class or a cross marker if the closest sample does not belong to the class.  In both cases set a bigger size for the marker of the means.\n",
    "- set for each plot a legend for the plot below the plot area (coordinates (0.9, -0.1))\n",
    " Repeat this for 5 randomly selected samples and plots the results into 5 sublpolts.\n",
    " "
   ],
   "metadata": {
    "collapsed": false
   },
   "id": "fe02f65181fe5837"
  },
  {
   "cell_type": "code",
   "execution_count": 2,
   "outputs": [],
   "source": [],
   "metadata": {
    "collapsed": false,
    "ExecuteTime": {
     "end_time": "2023-10-26T12:48:57.246278100Z",
     "start_time": "2023-10-26T12:48:57.206428500Z"
    }
   },
   "id": "ec37c9af5ec8bc8c"
  }
 ],
 "metadata": {
  "kernelspec": {
   "display_name": "Python 3",
   "language": "python",
   "name": "python3"
  },
  "language_info": {
   "codemirror_mode": {
    "name": "ipython",
    "version": 2
   },
   "file_extension": ".py",
   "mimetype": "text/x-python",
   "name": "python",
   "nbconvert_exporter": "python",
   "pygments_lexer": "ipython2",
   "version": "2.7.6"
  }
 },
 "nbformat": 4,
 "nbformat_minor": 5
}

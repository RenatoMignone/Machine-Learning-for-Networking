{
 "cells": [
  {
   "cell_type": "markdown",
   "id": "2e249878-1f00-417a-82b0-1b3ec2ce4e5d",
   "metadata": {},
   "source": [
    "<center><b><font size=6>Lab-4 Data Visualization<b><center>"
   ]
  },
  {
   "cell_type": "markdown",
   "id": "a2820981-8741-4960-8324-9ec142f15558",
   "metadata": {},
   "source": [
    "### Exercise\n",
    "- Focus on solving the problem and for now, you don't need to care too much about the details and whether it's appealing or not. In a lot of the following problems, the key point is how to derive the data that you want to plot, requiring the skills you have obtained from previous courses about Python, pandas, numpy, etc.\n",
    "- The general logic behind making plots is always the same, but you need to learn how to use documentation and online resource to make new or customized plots that you have never seen before.\n",
    "- Refer to documentation, Google, stackoverflow, chatGPT, etc, and at last, ask me, but I may not be able to give you the answer if all of the previous have failed you.\n",
    "- Another important step is to compare your answers and the results that I will be providing after the class, so that you will know what you lack, what you can improve, and maybe yours is even better!\n",
    "- The dataset we will be using is called **Darknet** dataset. Darknets are sensors that observe traffic received by networks that are announced on the Internet but hosting neither production services nor client host. The unsolicited packets received by darknet sensors represent a privileged source of information for network security and debugging activities, exposing threats like scans, brute-force attempts, and misconfigured hosts. The traffic of hundreds of sources target all TCP/UDP ports. The dataset we are using contain the traffic (record of packets) that received by darknet sensors allocated in Polito. You can load the data from ``darknet_traces.csv``, in which there are 8 columns:\n",
    "    - **ts**: timestamp of the received packet when it is captured by darknet. It's in the format of Unix time, which measures time by the number of seconds that have elapsed since 00:00:00 UTC on 1 January 1970, therefore, you can convert it to human-readable date and time.\n",
    "    - **src_ip**: IP address of senders (sources) that sent the packet\n",
    "    - **src_port**: source port from which the packet has been sent\n",
    "    - **dst_ip**: darknet IP address (destination) reached by the packet\n",
    "    - **dst_port**: darknet port reached by the packet\n",
    "    - **proto**: used protocol\n",
    "    - **pck_len**: length of the packet in bytes\n",
    "    - **ttl**: time to live of a packet, which represents the limited lifetime of a packet in the network, and is a counter that reduces by 1 every time the packet reaches a router, meaning that the packet will be discarded when it reaches 0. Under the Internet Protocol, TTL is an 8-bit field so the maximum is 255.\n",
    "\n",
    "<center><img src=\"darknet.png\" alt=\"drawing\" width=\"1000\"/></center>"
   ]
  },
  {
   "cell_type": "code",
   "execution_count": 3,
   "id": "dbc52625-130b-49a4-91b5-639795c56485",
   "metadata": {},
   "outputs": [
    {
     "ename": "NameError",
     "evalue": "name 'pd' is not defined",
     "output_type": "error",
     "traceback": [
      "\u001b[0;31m---------------------------------------------------------------------------\u001b[0m",
      "\u001b[0;31mNameError\u001b[0m                                 Traceback (most recent call last)",
      "\u001b[0;32m/tmp/ipykernel_869/145648778.py\u001b[0m in \u001b[0;36m<module>\u001b[0;34m\u001b[0m\n\u001b[1;32m      1\u001b[0m \u001b[0;31m# read csv file\u001b[0m\u001b[0;34m\u001b[0m\u001b[0;34m\u001b[0m\u001b[0;34m\u001b[0m\u001b[0m\n\u001b[0;32m----> 2\u001b[0;31m \u001b[0mdf_dark\u001b[0m \u001b[0;34m=\u001b[0m \u001b[0mpd\u001b[0m\u001b[0;34m.\u001b[0m\u001b[0mread_csv\u001b[0m\u001b[0;34m(\u001b[0m\u001b[0;34m'darknet_traces.csv'\u001b[0m\u001b[0;34m)\u001b[0m\u001b[0;34m\u001b[0m\u001b[0;34m\u001b[0m\u001b[0m\n\u001b[0m\u001b[1;32m      3\u001b[0m \u001b[0mdf_dark\u001b[0m\u001b[0;34m\u001b[0m\u001b[0;34m\u001b[0m\u001b[0m\n",
      "\u001b[0;31mNameError\u001b[0m: name 'pd' is not defined"
     ]
    }
   ],
   "source": [
    "# read csv file\n",
    "df_dark = pd.read_csv('darknet_traces.csv')\n",
    "df_dark"
   ]
  },
  {
   "cell_type": "markdown",
   "id": "d95f75ed-8fde-4e0e-824e-a02bf25fda28",
   "metadata": {},
   "source": [
    "##### 2.1 Plot the number of received packets per minute\n",
    "1. Line plot: from the beginning to the end, for each minute following the chronological order, count the number of received packets within the corresponding minute. Afterwards, making a time series plot - the number of packets with respect to the timestamp. Try to change the time aggregation (e.g., 30s) to see the change.\n",
    "    1. Convert the column of timestamp to nanosecond by multiplying $10^9$.\n",
    "    2. Change the data type of timestamp from float to datetime by using `pd.to_datetime()`.\n",
    "    3. Set the timestamp column as index.\n",
    "    4. Use `.resample()` (<a href=\"https://pandas.pydata.org/pandas-docs/stable/reference/api/pandas.DataFrame.resample.html?highlight=resample#pandas.DataFrame.resample\">documentation</a>) to aggregate samples into the corresponding minute, and then count the samples in each minute (the logic is similar to `.groupby()`).\n",
    "3. Distribution plot: visualize the distribution of number of packets per minute, using **histogram with KDE**.\n",
    "4. Answering the following questions:\n",
    "    - Can you observe some trends or abnormal behaviors in the plots? \n",
    "    - In which plot can you observe the most frequent number of packets, what are these numbers?\n",
    "    - Describe the difference when you modify the time aggregation. What remains similar?"
   ]
  },
  {
   "cell_type": "code",
   "execution_count": 4,
   "id": "fffe83c5-33fe-4324-b12e-5f09d3861f3d",
   "metadata": {},
   "outputs": [
    {
     "ename": "NameError",
     "evalue": "name 'df_dark' is not defined",
     "output_type": "error",
     "traceback": [
      "\u001b[0;31m---------------------------------------------------------------------------\u001b[0m",
      "\u001b[0;31mNameError\u001b[0m                                 Traceback (most recent call last)",
      "\u001b[0;32m/tmp/ipykernel_869/3512470967.py\u001b[0m in \u001b[0;36m<module>\u001b[0;34m\u001b[0m\n\u001b[0;32m----> 1\u001b[0;31m \u001b[0mdf_dark\u001b[0m\u001b[0;34m[\u001b[0m\u001b[0;34m'ts'\u001b[0m\u001b[0;34m]\u001b[0m \u001b[0;34m=\u001b[0m \u001b[0mdf_dark\u001b[0m\u001b[0;34m[\u001b[0m\u001b[0;34m'ts'\u001b[0m\u001b[0;34m]\u001b[0m \u001b[0;34m*\u001b[0m \u001b[0;36m1e9\u001b[0m\u001b[0;34m\u001b[0m\u001b[0;34m\u001b[0m\u001b[0m\n\u001b[0m",
      "\u001b[0;31mNameError\u001b[0m: name 'df_dark' is not defined"
     ]
    }
   ],
   "source": [
    "df_dark['ts'] = df_dark['ts'] * 1e9"
   ]
  },
  {
   "cell_type": "code",
   "execution_count": null,
   "id": "632f60e5-be4a-48eb-aca5-ac7f300ef7d2",
   "metadata": {},
   "outputs": [],
   "source": [
    "df_dark['ts'] = pd.to_datetime(df_dark['ts'])"
   ]
  },
  {
   "cell_type": "code",
   "execution_count": 5,
   "id": "910206cb-b70d-4906-873e-f0e00ceff5e6",
   "metadata": {},
   "outputs": [
    {
     "ename": "NameError",
     "evalue": "name 'df_dark' is not defined",
     "output_type": "error",
     "traceback": [
      "\u001b[0;31m---------------------------------------------------------------------------\u001b[0m",
      "\u001b[0;31mNameError\u001b[0m                                 Traceback (most recent call last)",
      "\u001b[0;32m/tmp/ipykernel_869/2837020172.py\u001b[0m in \u001b[0;36m<module>\u001b[0;34m\u001b[0m\n\u001b[0;32m----> 1\u001b[0;31m \u001b[0mdf_dark\u001b[0m\u001b[0;34m.\u001b[0m\u001b[0mset_index\u001b[0m\u001b[0;34m(\u001b[0m\u001b[0;34m'ts'\u001b[0m\u001b[0;34m,\u001b[0m \u001b[0minplace\u001b[0m \u001b[0;34m=\u001b[0m \u001b[0;32mTrue\u001b[0m\u001b[0;34m)\u001b[0m\u001b[0;34m\u001b[0m\u001b[0;34m\u001b[0m\u001b[0m\n\u001b[0m\u001b[1;32m      2\u001b[0m \u001b[0mdf_dark\u001b[0m\u001b[0;34m\u001b[0m\u001b[0;34m\u001b[0m\u001b[0m\n",
      "\u001b[0;31mNameError\u001b[0m: name 'df_dark' is not defined"
     ]
    }
   ],
   "source": [
    "df_dark.set_index('ts', inplace = True)\n",
    "df_dark"
   ]
  },
  {
   "cell_type": "code",
   "execution_count": 6,
   "id": "9710e8ee-08be-474e-b141-b81888f04ecf",
   "metadata": {},
   "outputs": [
    {
     "ename": "NameError",
     "evalue": "name 'df_dark' is not defined",
     "output_type": "error",
     "traceback": [
      "\u001b[0;31m---------------------------------------------------------------------------\u001b[0m",
      "\u001b[0;31mNameError\u001b[0m                                 Traceback (most recent call last)",
      "\u001b[0;32m/tmp/ipykernel_869/1805755352.py\u001b[0m in \u001b[0;36m<module>\u001b[0;34m\u001b[0m\n\u001b[1;32m      3\u001b[0m \u001b[0;34m\u001b[0m\u001b[0m\n\u001b[1;32m      4\u001b[0m \u001b[0;31m# Step 1: Resample to count packets per minute\u001b[0m\u001b[0;34m\u001b[0m\u001b[0;34m\u001b[0m\u001b[0;34m\u001b[0m\u001b[0m\n\u001b[0;32m----> 5\u001b[0;31m \u001b[0mdf_minute_counts\u001b[0m \u001b[0;34m=\u001b[0m \u001b[0mdf_dark\u001b[0m\u001b[0;34m.\u001b[0m\u001b[0mresample\u001b[0m\u001b[0;34m(\u001b[0m\u001b[0;34m'1min'\u001b[0m\u001b[0;34m)\u001b[0m\u001b[0;34m.\u001b[0m\u001b[0msize\u001b[0m\u001b[0;34m(\u001b[0m\u001b[0;34m)\u001b[0m  \u001b[0;31m# Count packets per minute\u001b[0m\u001b[0;34m\u001b[0m\u001b[0;34m\u001b[0m\u001b[0m\n\u001b[0m\u001b[1;32m      6\u001b[0m \u001b[0;34m\u001b[0m\u001b[0m\n\u001b[1;32m      7\u001b[0m \u001b[0;31m# Step 2: Plot the histogram with KDE for 1-minute intervals\u001b[0m\u001b[0;34m\u001b[0m\u001b[0;34m\u001b[0m\u001b[0;34m\u001b[0m\u001b[0m\n",
      "\u001b[0;31mNameError\u001b[0m: name 'df_dark' is not defined"
     ]
    }
   ],
   "source": [
    "import matplotlib.pyplot as plt\n",
    "import seaborn as sns\n",
    "\n",
    "# Step 1: Resample to count packets per minute\n",
    "df_minute_counts = df_dark.resample('1min').size()  # Count packets per minute\n",
    "\n",
    "# Step 2: Plot the histogram with KDE for 1-minute intervals\n",
    "plt.figure(figsize=(10, 6))\n",
    "sns.histplot(df_minute_counts, bins=20, kde=True, color='skyblue')\n",
    "plt.title(\"Distribution of Packets per Minute with KDE\")\n",
    "plt.xlabel(\"Number of Packets\")\n",
    "plt.ylabel(\"Frequency\")\n",
    "plt.show()\n",
    "\n",
    "# Step 3: Resample to 30-second intervals\n",
    "df_30s_counts = df_dark.resample('30s').size()  # Count packets per 30 seconds\n",
    "\n",
    "# Step 4: Plot the histogram with KDE for 30-second intervals\n",
    "plt.figure(figsize=(10, 6))\n",
    "sns.histplot(df_30s_counts, bins=20, kde=True, color='lightgreen')\n",
    "plt.title(\"Distribution of Packets per 30 Seconds with KDE\")\n",
    "plt.xlabel(\"Number of Packets\")\n",
    "plt.ylabel(\"Frequency\")\n",
    "plt.show()\n"
   ]
  },
  {
   "cell_type": "markdown",
   "id": "75cce309-613d-4a60-bb4b-4e5919065f08",
   "metadata": {},
   "source": [
    "##### 2.2 Plot the number of packets per minute for the top 5 source IP address. Find the top 5 source IP addresses with the most sent packets, and make the following plots, indicating the total number of packets for each IP in the legend:\n",
    "1. Repeat the previous line plot for each of the top 5 IP, specify the colors and labels.\n",
    "2. Repeat the previous distribution plot for each of the top 5 IP, you can choose to plot in the same figure or in different figures.\n",
    "3. Plot the ECDF of number of packets for each of the top 5 source IP address.\n",
    "4. Answering the following questions:\n",
    "    - Which kind of unique information can you derive from each plot that you cannot derive from others?\n",
    "    - Can you observe some IP addresses with similar patterns? Can you observe such similarities in all plots, if you can, describe them?\n",
    "    - Can you roughly observe the order of the total number of packets in the plots? Actually there're some minutes that have a lot of packets for the IP with the lowest amount of total packets (find them in the plots), why do you think such IP has less packets in the end? Can you observe the reason in the plots?"
   ]
  },
  {
   "cell_type": "code",
   "execution_count": null,
   "id": "bb6e56e7-4d32-4372-bcd9-85a7c918aa24",
   "metadata": {},
   "outputs": [],
   "source": [
    "# Group by source IP and count the number of packets for each IP\n",
    "top_ips = df_dark['src_ip'].value_counts().head(5).index  # Get the top 5 source IPs\n"
   ]
  },
  {
   "cell_type": "code",
   "execution_count": null,
   "id": "280f416a-26b3-4699-8b9d-684ce5eae896",
   "metadata": {},
   "outputs": [],
   "source": [
    "# Dictionary to store resampled data for each IP\n",
    "resampled_data = {}\n",
    "\n",
    "for ip in top_ips:\n",
    "    # Filter for the current IP and resample to get packets per minute\n",
    "    ip_data = df_dark[df_dark['src_ip'] == ip].resample('1min').size()\n",
    "    resampled_data[ip] = ip_data\n"
   ]
  },
  {
   "cell_type": "code",
   "execution_count": null,
   "id": "85873f14-9e1c-420f-bbb5-aedf3991c1b7",
   "metadata": {},
   "outputs": [],
   "source": [
    "import matplotlib.pyplot as plt\n",
    "\n",
    "plt.figure(figsize=(12, 8))\n",
    "\n",
    "colors = ['red', 'blue', 'green', 'orange', 'purple']\n",
    "for i, ip in enumerate(top_ips):\n",
    "    plt.plot(resampled_data[ip], label=f\"{ip} (Total packets: {resampled_data[ip].sum()})\", color=colors[i])\n",
    "\n",
    "plt.title(\"Packets per Minute for Top 5 Source IPs\")\n",
    "plt.xlabel(\"Timestamp\")\n",
    "plt.ylabel(\"Number of Packets\")\n",
    "plt.legend()\n",
    "plt.show()\n"
   ]
  },
  {
   "cell_type": "code",
   "execution_count": null,
   "id": "7b89c6a2-e5a2-49ac-854e-d34dbafa13e9",
   "metadata": {},
   "outputs": [],
   "source": [
    "import seaborn as sns\n",
    "\n",
    "for i, ip in enumerate(top_ips):\n",
    "    plt.figure(figsize=(10, 6))\n",
    "    sns.histplot(resampled_data[ip], bins=20, kde=True, color=colors[i])\n",
    "    plt.title(f\"Distribution of Packets per Minute for IP {ip}\")\n",
    "    plt.xlabel(\"Number of Packets\")\n",
    "    plt.ylabel(\"Frequency\")\n",
    "    plt.show()\n"
   ]
  },
  {
   "cell_type": "code",
   "execution_count": null,
   "id": "faf213e3-1f81-4fe8-ae7d-429f34ee3288",
   "metadata": {},
   "outputs": [],
   "source": [
    "for i, ip in enumerate(top_ips):\n",
    "    plt.figure(figsize=(10, 6))\n",
    "    sns.ecdfplot(resampled_data[ip], color=colors[i])\n",
    "    plt.title(f\"ECDF of Packets per Minute for IP {ip}\")\n",
    "    plt.xlabel(\"Number of Packets\")\n",
    "    plt.ylabel(\"Cumulative Probability\")\n",
    "    plt.show()\n"
   ]
  },
  {
   "cell_type": "markdown",
   "id": "f3e1f63b-59b2-4577-8280-7a258f111b56",
   "metadata": {},
   "source": [
    "##### 2.3 Study the frequency of specific links\n",
    "1. A link is defined as a specific and unique tuple composed of source IP, source port, destination IP, and destination port.\n",
    "2. Find the number of packets belonging to each individual link.\n",
    "3. Find the top 10 links with the most amount of packets.\n",
    "4. Check the frequency of each link by computing the time elapsed between the recorded times (timestamps) of each pair of consecutive packets for a link. Such time span is called **intertime**, which can describe how frequent a link is sending packets, the lower the time, the higher the frequency. Specifically:\n",
    "    1. Plot the time series of packets for the top 10 links, by making a scatter plot, in which x-axis is the timestamp and y-axis is from 1 to 10, each representing a link. The scatters that represent packets of a link are plot lying on a horizontal line following the timestamp. On top of that, for the label of y-axis, replace digit numbers with the corresponding link tuple (name) plus the number of packets. In this case, you don't need to calculate intertime.\n",
    "    2. Make the boxplot of intertimes for each link in one single plot. The labels on x-axis should indicate the name of the link and the number of packets as what you have done in previous plot for y-axis. Change the scale of y-axis to logarithm scale. In this case, you need to calculate the intertimes for each link and remove value 0.\n",
    "5. Answering the following questions:\n",
    "    - Which plot is more suitable to derive the most frequent link?\n",
    "    - Roughly, which link lasts the longest/shortest duration?\n",
    "    - For which link can you observe the outliers in intertimes for both plots?\n",
    "    - Which link has the most uniform intertimes?"
   ]
  },
  {
   "cell_type": "code",
   "execution_count": null,
   "id": "1ba068e3-f317-4a5a-94c0-0e85d37a91ae",
   "metadata": {},
   "outputs": [],
   "source": [
    "# Define the link tuple and count the packets for each link\n",
    "df_dark['link'] = list(zip(df_dark['src_ip'], df_dark['src_port'], df_dark['dst_ip'], df_dark['dst_port']))\n",
    "\n",
    "# Group by the 'link' column and count the packets for each unique link\n",
    "link_counts = df_dark.groupby('link').size().reset_index(name='packet_count')\n",
    "\n",
    "# Find the top 10 links with the most packets\n",
    "top_links = link_counts.nlargest(10, 'packet_count')\n",
    "top_link_tuples = top_links['link'].values  # Extract the link tuples\n"
   ]
  },
  {
   "cell_type": "code",
   "execution_count": null,
   "id": "94547bbc-a6e0-4029-bbf9-7052b7ed8b8b",
   "metadata": {},
   "outputs": [],
   "source": [
    "# Filter the DataFrame for packets belonging to the top 10 links\n",
    "top_links_df = df_dark[df_dark['link'].isin(top_link_tuples)]\n"
   ]
  },
  {
   "cell_type": "code",
   "execution_count": null,
   "id": "795a1328-60be-43b5-b537-4908340a52b4",
   "metadata": {},
   "outputs": [],
   "source": [
    "import matplotlib.pyplot as plt\n",
    "\n",
    "# Assign each link an integer y-coordinate (1 to 10)\n",
    "link_y_map = {link: i+1 for i, link in enumerate(top_link_tuples)}\n",
    "\n",
    "# Create the scatter plot for the top 10 links\n",
    "plt.figure(figsize=(12, 8))\n",
    "\n",
    "for link in top_link_tuples:\n",
    "    link_data = top_links_df[top_links_df['link'] == link]\n",
    "    y_val = link_y_map[link]\n",
    "    plt.scatter(link_data['timestamp'], [y_val] * len(link_data), label=f\"{link} ({link_counts.loc[link_counts['link'] == link, 'packet_count'].values[0]})\", s=10)\n",
    "\n",
    "# Labeling and aesthetics\n",
    "plt.xlabel(\"Timestamp\")\n",
    "plt.ylabel(\"Link (with Packet Count)\")\n",
    "plt.yticks(list(link_y_map.values()), [f\"{link} ({count})\" for link, count in zip(top_links['link'], top_links['packet_count'])])\n",
    "plt.title(\"Time Series of Packets for Top 10 Links\")\n",
    "plt.legend(loc='upper right', bbox_to_anchor=(1.3, 1))  # Adjust legend position if necessary\n",
    "plt.show()\n"
   ]
  },
  {
   "cell_type": "code",
   "execution_count": null,
   "id": "2be45967-b78d-434f-87cb-1a4f2ef36beb",
   "metadata": {},
   "outputs": [],
   "source": [
    "from statsmodels.distributions.empirical_distribution import ECDF\n",
    "\n",
    "plt.figure(figsize=(10, 6))\n",
    "\n",
    "for i, ip in enumerate(top_ips):\n",
    "    ip_data = top_ips_data[top_ips_data['src_ip'] == ip]\n",
    "    packets_per_minute = ip_data.resample('1min').size()\n",
    "    \n",
    "    ecdf = ECDF(packets_per_minute)\n",
    "    plt.plot(ecdf.x, ecdf.y, label=f\"{ip} (Total packets: {packets_per_minute.sum()})\", color=colors[i])\n",
    "\n",
    "plt.xlabel(\"Number of Packets per Minute\")\n",
    "plt.ylabel(\"ECDF\")\n",
    "plt.title(\"ECDF of Number of Packets per Minute for Top 5 Source IPs\")\n",
    "plt.legend()\n",
    "plt.show()"
   ]
  },
  {
   "cell_type": "code",
   "execution_count": null,
   "id": "ef8cc9aa-4b81-4bbc-975e-88ae7ab3a4f6",
   "metadata": {},
   "outputs": [],
   "source": []
  },
  {
   "cell_type": "code",
   "execution_count": null,
   "id": "a9ee3c88-32b9-48d9-bf39-b0329cc5a09f",
   "metadata": {},
   "outputs": [],
   "source": []
  },
  {
   "cell_type": "code",
   "execution_count": null,
   "id": "d855acee-78a2-4305-a27b-c18febdeec7d",
   "metadata": {},
   "outputs": [],
   "source": []
  }
 ],
 "metadata": {
  "kernelspec": {
   "display_name": "Python 3 (ipykernel)",
   "language": "python",
   "name": "python3"
  },
  "language_info": {
   "codemirror_mode": {
    "name": "ipython",
    "version": 3
   },
   "file_extension": ".py",
   "mimetype": "text/x-python",
   "name": "python",
   "nbconvert_exporter": "python",
   "pygments_lexer": "ipython3",
   "version": "3.7.12"
  }
 },
 "nbformat": 4,
 "nbformat_minor": 5
}

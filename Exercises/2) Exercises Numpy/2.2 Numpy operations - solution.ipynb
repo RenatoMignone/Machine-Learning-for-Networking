{
 "cells": [
  {
   "cell_type": "markdown",
   "id": "7b648069",
   "metadata": {},
   "source": [
    "# Let's makes some Numpy Operations\n",
    "In this notebook, we will make some operations with Numpy arrays. We will use the following functions:\n",
    "- Universal functions\n",
    "- Aggregation functions\n",
    "- Sorting\n",
    "- Broadcasting\n"
   ]
  },
  {
   "cell_type": "markdown",
   "id": "b7ed14a8",
   "metadata": {},
   "source": [
    "## Exercise 1 Universal Functions\n",
    "Given an ndarray x = [4, -1, 7, 9, 3, -5] compute the sigmoid function $ y = sigmoid(x)$ which maps numbers $(-\\inf +\\inf) \\rightarrow (0,1)$\n",
    "\n",
    "$$ sigmoid(x) = \\frac{1}{1 + e^{-x}}$$"
   ]
  },
  {
   "cell_type": "code",
   "execution_count": 1,
   "id": "9bec4df9",
   "metadata": {
    "ExecuteTime": {
     "end_time": "2024-10-07T12:29:14.433861Z",
     "start_time": "2024-10-07T12:29:14.277925Z"
    }
   },
   "outputs": [
    {
     "name": "stdout",
     "output_type": "stream",
     "text": [
      "[ 4 -1  7  9  3 -5]\n",
      "[0.982 0.269 0.999 1.    0.953 0.007]\n"
     ]
    }
   ],
   "source": [
    "import numpy as np\n",
    "np.set_printoptions(precision=3)\n",
    "\n",
    "x1 = np.array([4, -1, 7, 9, 3, -5])\n",
    "print(x1)\n",
    "\n",
    "y_sigm = 1/ (1 + np.exp(-x1))\n",
    "print(y_sigm)"
   ]
  },
  {
   "cell_type": "markdown",
   "id": "8c82de3d",
   "metadata": {},
   "source": [
    "## Exercise 2 Aggregation functions\n",
    "Given an array \n",
    "x = [\n",
    "    [2, 3, -4,],\n",
    "    [7, 5, 9]\n",
    "]\n",
    "\n",
    "Return the mean of the elements along the rows and the minimum element along the columns"
   ]
  },
  {
   "cell_type": "code",
   "execution_count": 2,
   "id": "273b3322",
   "metadata": {
    "ExecuteTime": {
     "end_time": "2024-10-07T12:32:27.749753Z",
     "start_time": "2024-10-07T12:32:27.741071Z"
    }
   },
   "outputs": [
    {
     "name": "stdout",
     "output_type": "stream",
     "text": [
      "x [[ 2  3 -4]\n",
      " [ 7  5  9]]\n",
      "(2, 3)\n",
      "Mean [0.333 7.   ]\n",
      "Min [ 2  3 -4]\n"
     ]
    }
   ],
   "source": [
    "x2 = np.array(\n",
    "    [\n",
    "        [2, 3, -4,], \n",
    "        [7, 5, 9]\n",
    "    ]\n",
    ")\n",
    "print(\"x\", x2)\n",
    "print(x2.shape)\n",
    "\n",
    "# mean along the rows --> mean between the columns --> the columns are the dimension to collapse --> axis=-1\n",
    "print(\"Mean\", x2.mean(axis=-1))\n",
    "\n",
    "# min along the columns --> mean between the rows --> the rows are the dimension to collapse --> axis=-2\n",
    "print(\"Min\", x2.min(axis=-2))"
   ]
  },
  {
   "cell_type": "markdown",
   "id": "325a14df",
   "metadata": {},
   "source": [
    "## Exercise 3 Sorting\n",
    "Given the same array as in Ex. 1, i.e., x = [4, -1, 7, 9, 3, -5], find the 3 highest values and the positions of the 2 lowest values"
   ]
  },
  {
   "cell_type": "code",
   "execution_count": 9,
   "id": "b37cd92d",
   "metadata": {
    "ExecuteTime": {
     "end_time": "2024-10-03T15:52:09.890207Z",
     "start_time": "2024-10-03T15:52:09.886441Z"
    }
   },
   "outputs": [
    {
     "name": "stdout",
     "output_type": "stream",
     "text": [
      "[9 7 4]\n",
      "[5 1]\n"
     ]
    }
   ],
   "source": [
    "x1 = [4, -1, 7, 9, 3, -5]\n",
    "\n",
    "# sort for getting the values (take the last three to get the highest)\n",
    "print(np.sort(x1)[:-4:-1])\n",
    "\n",
    "# argsort for getting their positions (take the first two to get the lowest)\n",
    "print(np.argsort(x1)[:2])"
   ]
  },
  {
   "cell_type": "markdown",
   "id": "baa9047d",
   "metadata": {},
   "source": [
    "# Exercise 4 Broadcasting\n",
    "Compute the product between the array x1 = [[0,1,2], [3,4,5]] and the array x2 = [1, 2]\n",
    "Does it raise an error? How shall x2 be modified to make the operation possible?\n"
   ]
  },
  {
   "cell_type": "code",
   "execution_count": 3,
   "outputs": [
    {
     "name": "stdout",
     "output_type": "stream",
     "text": [
      "Shape of x3: (2, 1)\n",
      "[[ 0  1  2]\n",
      " [ 6  8 10]]\n"
     ]
    }
   ],
   "source": [
    "x1 = np.array([[0,1,2], [3,4,5]])\n",
    "x2 = np.array([1, 2])\n",
    "\n",
    "# print(x1 * x2) # THIS DOES NOT WORK: operands cannot be broadcast together with shapes (2,3) (2) --> (2,3) (1,2) -> (2,3) (2,3) \n",
    "\n",
    "# x2 should be reshaped to (2,1) to be broadcasted with x1\n",
    "x3 = np.array(\n",
    "    [\n",
    "        [1], \n",
    "        [2]\n",
    "    ]\n",
    ")\n",
    "print(\"Shape of x3:\", x3.shape)\n",
    "print(x1 * x3)"
   ],
   "metadata": {
    "collapsed": false,
    "ExecuteTime": {
     "end_time": "2024-10-07T12:35:11.547604Z",
     "start_time": "2024-10-07T12:35:11.539330Z"
    }
   },
   "id": "b86d7687739e6c1c"
  }
 ],
 "metadata": {
  "kernelspec": {
   "display_name": "Python 3 (ipykernel)",
   "language": "python",
   "name": "python3"
  },
  "language_info": {
   "codemirror_mode": {
    "name": "ipython",
    "version": 3
   },
   "file_extension": ".py",
   "mimetype": "text/x-python",
   "name": "python",
   "nbconvert_exporter": "python",
   "pygments_lexer": "ipython3",
   "version": "3.10.12"
  }
 },
 "nbformat": 4,
 "nbformat_minor": 5
}

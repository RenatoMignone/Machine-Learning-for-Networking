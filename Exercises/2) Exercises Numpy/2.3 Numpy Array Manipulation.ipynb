{
 "cells": [
  {
   "cell_type": "markdown",
   "id": "7b648069",
   "metadata": {},
   "source": [
    "# Let's manipulate some arrays! \n",
    "In this notebook we will see different wasy in which we can manipulate an array"
   ]
  },
  {
   "cell_type": "markdown",
   "id": "b7ed14a8",
   "metadata": {},
   "source": [
    "## Exercise 1 Array accessing \n",
    "Given an ndarray x = [[3.0, 2.0, 5.0], [1.0, 4.0, 2.0], [6.0, 7.0, 8.0]]\n",
    "Return two arrays:\n",
    "1) Compute the mean of the elements along the second column \n",
    "2) Retrieve the elements with values higher than 2 along the second and third rows "
   ]
  },
  {
   "cell_type": "code",
   "execution_count": null,
   "id": "9bec4df9",
   "metadata": {
    "ExecuteTime": {
     "end_time": "2023-10-12T10:27:08.414500700Z",
     "start_time": "2023-10-12T10:27:08.371123300Z"
    }
   },
   "outputs": [],
   "source": []
  },
  {
   "cell_type": "markdown",
   "id": "8c82de3d",
   "metadata": {},
   "source": [
    "## Exercise 2 Array accessing to update\n",
    "Given the previous array x = [[3.0, 2.0, 5.0], [1.0, 4.0, 2.0], [6.0, 7.0, 8.0]]\n",
    "1) set the values of the first column to 0, if they are greater than 2\n",
    "2) then try to do the same for the first and third columns together. Does it work? "
   ]
  },
  {
   "cell_type": "code",
   "execution_count": null,
   "id": "273b3322",
   "metadata": {
    "ExecuteTime": {
     "end_time": "2023-10-12T10:27:08.860883100Z",
     "start_time": "2023-10-12T10:27:08.850884200Z"
    }
   },
   "outputs": [],
   "source": []
  },
  {
   "cell_type": "markdown",
   "id": "325a14df",
   "metadata": {},
   "source": [
    "## Exercise 3 Array concatenation and reshaping\n",
    "Given two arrays x1 = [[3,1], [2,4]] and x2 = [[3, 4], [2,4], [2,5]]\n",
    "\n",
    "Try to concatenate them vertically and then horizontally\n",
    "If something does not work try to reshape the arrays so that you can concatenate (or stack) them.\n",
    "\n",
    "*Remember*: arrays can be concatenated if and only if all the dimensions match, with the **only exception of the concatenation dimension**."
   ]
  },
  {
   "cell_type": "code",
   "execution_count": null,
   "id": "b37cd92d",
   "metadata": {
    "ExecuteTime": {
     "end_time": "2023-10-12T10:27:10.933599800Z",
     "start_time": "2023-10-12T10:27:10.915593300Z"
    }
   },
   "outputs": [],
   "source": []
  }
 ],
 "metadata": {
  "kernelspec": {
   "display_name": "Python 3 (ipykernel)",
   "language": "python",
   "name": "python3"
  },
  "language_info": {
   "codemirror_mode": {
    "name": "ipython",
    "version": 3
   },
   "file_extension": ".py",
   "mimetype": "text/x-python",
   "name": "python",
   "nbconvert_exporter": "python",
   "pygments_lexer": "ipython3",
   "version": "3.10.12"
  }
 },
 "nbformat": 4,
 "nbformat_minor": 5
}

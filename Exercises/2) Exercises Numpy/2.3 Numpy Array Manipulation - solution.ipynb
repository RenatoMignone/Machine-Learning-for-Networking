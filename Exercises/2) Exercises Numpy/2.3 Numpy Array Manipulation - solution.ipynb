{
 "cells": [
  {
   "cell_type": "markdown",
   "id": "7b648069",
   "metadata": {},
   "source": [
    "# Let's manipulate some arrays! \n",
    "In this notebook we will see different wasy in which we can manipulate an array"
   ]
  },
  {
   "cell_type": "markdown",
   "id": "b7ed14a8",
   "metadata": {},
   "source": [
    "## Exercise 1 Array accessing \n",
    "Given an ndarray x = [[3.0, 2.0, 5.0], [1.0, 4.0, 2.0], [6.0, 7.0, 8.0]]\n",
    "Return two arrays:\n",
    "1) Compute the mean of the elements along the second column \n",
    "2) Retrieve the elements with values higher than 2 along the second and third rows "
   ]
  },
  {
   "cell_type": "code",
   "execution_count": 2,
   "id": "9bec4df9",
   "metadata": {
    "ExecuteTime": {
     "end_time": "2024-10-07T12:27:28.618575Z",
     "start_time": "2024-10-07T12:27:28.611035Z"
    }
   },
   "outputs": [
    {
     "name": "stdout",
     "output_type": "stream",
     "text": [
      "[[3. 2. 5.]\n",
      " [1. 4. 2.]\n",
      " [6. 7. 8.]]\n",
      "mean second column 4.333333333333333 or  4.333333333333333\n",
      "x2 [4. 6. 7. 8.]\n"
     ]
    }
   ],
   "source": [
    "import numpy as np\n",
    "x = np.array([[3.0, 2.0, 5.0], [1.0, 4.0, 2.0], [6.0, 7.0, 8.0]])\n",
    "print(x)\n",
    "\n",
    "# mean of the elements along the second column\n",
    "mean_1 = np.mean(x[:, 1]) # mean of the column vector at index 1\n",
    "mean_2 = np.mean(x, axis=0)[1] # mean of all the columns (along the columns i.e., collapsing the rows -> axis=0)\n",
    "print(\"mean second column\", mean_1, \"or \", mean_2)\n",
    "\n",
    "# retrieve elements along the 2 and 3 rows if values higher than 2\n",
    "x2 = x[[1,2]] # select the 2nd and 3rd rows\n",
    "mask = x2 > 2 # mask to select values higher than 2\n",
    "print(\"x2\", x2[mask])"
   ]
  },
  {
   "cell_type": "markdown",
   "id": "8c82de3d",
   "metadata": {},
   "source": [
    "## Exercise 2 Array accessing to update\n",
    "Given the previous array x = [[3.0, 2.0, 5.0], [1.0, 4.0, 2.0], [6.0, 7.0, 8.0]]\n",
    "1) set the values of the first column to 0, if they are greater than 2\n",
    "2) then try to do the same for the first and third columns together. Does it work? "
   ]
  },
  {
   "cell_type": "code",
   "execution_count": 11,
   "id": "273b3322",
   "metadata": {
    "ExecuteTime": {
     "end_time": "2024-10-07T12:44:35.232237Z",
     "start_time": "2024-10-07T12:44:35.222257Z"
    }
   },
   "outputs": [
    {
     "name": "stdout",
     "output_type": "stream",
     "text": [
      "[[3. 2. 5.]\n",
      " [1. 4. 2.]\n",
      " [6. 7. 8.]]\n",
      "first update\n",
      " [[0. 2. 5.]\n",
      " [1. 4. 2.]\n",
      " [0. 7. 8.]]\n",
      "second update\n",
      " [[3. 2. 5.]\n",
      " [1. 4. 2.]\n",
      " [6. 7. 8.]]\n"
     ]
    }
   ],
   "source": [
    "x = np.array([[3.0, 2.0, 5.0], [1.0, 4.0, 2.0], [6.0, 7.0, 8.0]])\n",
    "print(x) \n",
    "\n",
    "# first create a mask to select values greater than 2\n",
    "mask = x[:, 0] > 2\n",
    "x[:, 0][mask] = 0\n",
    "print(\"first update\\n\", x)\n",
    "\n",
    "# this would not work: this would set all the values along the first and third columns to 0 \n",
    "# because the mask is applied array-wise, not to the first column only\n",
    "# x[mask] = 0 \n",
    "\n",
    "# This would not work either: x2 is a copy of the selected values, not a view of x\n",
    "# x2 = x[:, [0,2]][mask]\n",
    "# x2 = 0\n",
    "# print(\"second update\\n\", x) \n",
    "\n",
    "x = np.array([[3.0, 2.0, 5.0], [1.0, 4.0, 2.0], [6.0, 7.0, 8.0]])\n",
    "mask = x[:,[0,2]] > 2\n",
    "x[:, [0,2]][mask]= 0\n",
    "print(\"second update\\n\", x) # THIS DOES NOT GET UPDATED! BECAUSE x[:, [0,2]] ALREADY RETURNS A COPY, NOT A VIEW OF X"
   ]
  },
  {
   "cell_type": "markdown",
   "id": "325a14df",
   "metadata": {},
   "source": [
    "## Exercise 3 Array concatenation and reshaping\n",
    "Given two arrays x1 = [[3,1], [2,4]] and x2 = [[3, 4], [2,4], [2,5]]\n",
    "\n",
    "Try to concatenate them vertically and then horizontally.\n",
    "If something does not work try to reshape the arrays so that you can concatenate (or stack) them.\n",
    "\n",
    "*Remember*: arrays can be concatenated if and only if all the dimensions match, with the **only exception of the concatenation dimension**."
   ]
  },
  {
   "cell_type": "code",
   "execution_count": 14,
   "id": "b37cd92d",
   "metadata": {
    "ExecuteTime": {
     "end_time": "2024-10-07T12:52:41.434659Z",
     "start_time": "2024-10-07T12:52:41.425838Z"
    }
   },
   "outputs": [
    {
     "name": "stdout",
     "output_type": "stream",
     "text": [
      "x1\n",
      " [[3 1]\n",
      " [2 4]]\n",
      "x2\n",
      " [[3 4]\n",
      " [2 4]\n",
      " [2 5]]\n",
      "x1, x2 vertical concatenation\n",
      " [[3 1]\n",
      " [2 4]\n",
      " [3 4]\n",
      " [2 4]\n",
      " [2 5]]\n",
      "x3\n",
      " [[3 4 2]\n",
      " [4 2 5]]\n",
      "x1, x3 horizontal concatenation\n",
      " [[3 1 3 4 2]\n",
      " [2 4 4 2 5]]\n"
     ]
    }
   ],
   "source": [
    "x1 = np.array([[3,1], [2,4]])\n",
    "x2 = np.array([[3, 4], [2,4], [2,5]])\n",
    "print(\"x1\\n\", x1)\n",
    "print(\"x2\\n\", x2)\n",
    "\n",
    "print(\"x1, x2 vertical concatenation\\n\", np.concatenate((x1, x2), axis=-2)) # concatenate on the rows dimensions\n",
    "\n",
    "# print(\"x1, x2 vstack\\n\", np.vstack((x1, x2))) # same result as above\n",
    "\n",
    "# print(np.concatenate((x1,x2), axis=1)) # DOES NOT WORK: dimension along the axis of **not** concatenation must match!\n",
    "# print(np.hstack((x1,x2))) # same as above\n",
    "\n",
    "# reshape x2 so that the dimensions of not concatenation (number of rows) match\n",
    "x3 = x2.reshape((2,3))\n",
    "print(\"x3\\n\", x3) # check out how x3 elements have been placed in the reshaped array\n",
    "\n",
    "print(\"x1, x3 horizontal concatenation\\n\", np.concatenate((x1, x3),axis=1))\n",
    "# print(np.hstack((x1, x3)) # same as above"
   ]
  }
 ],
 "metadata": {
  "kernelspec": {
   "display_name": "Python 3 (ipykernel)",
   "language": "python",
   "name": "python3"
  },
  "language_info": {
   "codemirror_mode": {
    "name": "ipython",
    "version": 3
   },
   "file_extension": ".py",
   "mimetype": "text/x-python",
   "name": "python",
   "nbconvert_exporter": "python",
   "pygments_lexer": "ipython3",
   "version": "3.10.12"
  }
 },
 "nbformat": 4,
 "nbformat_minor": 5
}

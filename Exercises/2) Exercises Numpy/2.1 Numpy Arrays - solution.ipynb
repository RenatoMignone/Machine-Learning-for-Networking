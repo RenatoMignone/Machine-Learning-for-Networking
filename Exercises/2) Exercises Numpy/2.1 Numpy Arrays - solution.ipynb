{
 "cells": [
  {
   "cell_type": "markdown",
   "metadata": {},
   "source": [
    "# Let's try Numpy Arrays\n",
    "In this notebook we will see many different ways in which a notebook can be created"
   ]
  },
  {
   "cell_type": "markdown",
   "metadata": {},
   "source": [
    "## Exercise 1 numpy import and an array creation\n",
    "Given the lists: \n",
    "`l1 = [0., 1., 2.]`\n",
    "`l2 = [True, False]`\n",
    "creates the corresponding numpy arrays and print their types "
   ]
  },
  {
   "cell_type": "code",
   "execution_count": 1,
   "metadata": {
    "ExecuteTime": {
     "end_time": "2024-10-07T12:16:58.633307Z",
     "start_time": "2024-10-07T12:16:58.416773Z"
    }
   },
   "outputs": [
    {
     "name": "stdout",
     "output_type": "stream",
     "text": [
      "[0. 1. 2.]\n",
      "[ True False]\n",
      "float64\n",
      "bool\n"
     ]
    },
    {
     "data": {
      "text/plain": "numpy.ndarray"
     },
     "execution_count": 1,
     "metadata": {},
     "output_type": "execute_result"
    }
   ],
   "source": [
    "import numpy as np\n",
    "l1 = [0., 1., 2.,]\n",
    "l2 = [True, False]\n",
    "a = np.array(l1)\n",
    "b = np.array(l2)\n",
    "print(a)\n",
    "print(b)\n",
    "# this is how you access to the type of the elements of the array\n",
    "print(a.dtype) \n",
    "print(b.dtype) \n",
    "# this print instead that a is a numpy array\n",
    "type(a)\n"
   ]
  },
  {
   "cell_type": "markdown",
   "metadata": {},
   "source": [
    "## Exercise 2 creates a multidimensional array\n",
    "\n",
    "First creates a multidimensional array from the given list of lists\n",
    "`l1 = [[[0., 1., 2.],[3., 4., 5.]],[[6., 7., 8.],[9., 10., 11.]]]`\n",
    "\n",
    "Then print the number of **rows** and **columns** of the arrays"
   ]
  },
  {
   "cell_type": "code",
   "execution_count": 2,
   "metadata": {
    "ExecuteTime": {
     "end_time": "2024-10-07T12:18:16.028600Z",
     "start_time": "2024-10-07T12:18:16.022520Z"
    }
   },
   "outputs": [
    {
     "name": "stdout",
     "output_type": "stream",
     "text": [
      "[[[ 0.  1.  2.]\n",
      "  [ 3.  4.  5.]]\n",
      "\n",
      " [[ 6.  7.  8.]\n",
      "  [ 9. 10. 11.]]]\n",
      "(2, 2, 3)\n",
      "Number of rows 2, columns 3\n"
     ]
    }
   ],
   "source": [
    "l = [\n",
    "    [\n",
    "        [0., 1., 2.],\n",
    "        [3., 4., 5.]]\n",
    "    ,\n",
    "     [\n",
    "         [6., 7., 8.],\n",
    "         [9., 10., 11.]\n",
    "     ]\n",
    "]\n",
    "a = np.array(l)\n",
    "print(a)\n",
    "\n",
    "print(a.shape)\n",
    "\n",
    "columns = a.shape[-1] # columns are the always last dimension\n",
    "rows = a.shape[-2] # rows are the second last dimension\n",
    "print(f\"Number of rows {rows}, columns {columns}\")"
   ]
  },
  {
   "cell_type": "markdown",
   "metadata": {},
   "source": [
    "## Exercise 3 creates a ndarray with values without using lists\n",
    "Create:\n",
    "1) an ndarray 3 x 3 of $1$s \n",
    "2) an ndarray 2 x 2 of $0$s\n",
    "3) an ndarray 1 x 2 of $9$s\n",
    "4) an ndarray of shape () with value 39\n",
    "5) an ndarray of shape (2,5) with values randomly distributed between 0 and 1\n",
    "6) an ndarray with 100 elements between 0 and 5\n",
    "\n",
    "*note*: always print the ndarray to console to make sure you correctly created"
   ]
  },
  {
   "cell_type": "code",
   "execution_count": 3,
   "metadata": {
    "ExecuteTime": {
     "end_time": "2024-10-07T12:18:40.423423Z",
     "start_time": "2024-10-07T12:18:40.410526Z"
    }
   },
   "outputs": [
    {
     "name": "stdout",
     "output_type": "stream",
     "text": [
      "m1: [[1. 1. 1.]\n",
      " [1. 1. 1.]\n",
      " [1. 1. 1.]]\n",
      "m2: [[0. 0.]\n",
      " [0. 0.]]\n",
      "m3: [[9 9]]\n",
      "m4: 39\n",
      "m5: [[0.84739668 0.98109604 0.38188665 0.54634278 0.2912792 ]\n",
      " [0.80821805 0.65398582 0.32294714 0.12028004 0.64032157]]\n",
      "m6-arange: [0.   0.05 0.1  0.15 0.2  0.25 0.3  0.35 0.4  0.45 0.5  0.55 0.6  0.65\n",
      " 0.7  0.75 0.8  0.85 0.9  0.95 1.   1.05 1.1  1.15 1.2  1.25 1.3  1.35\n",
      " 1.4  1.45 1.5  1.55 1.6  1.65 1.7  1.75 1.8  1.85 1.9  1.95 2.   2.05\n",
      " 2.1  2.15 2.2  2.25 2.3  2.35 2.4  2.45 2.5  2.55 2.6  2.65 2.7  2.75\n",
      " 2.8  2.85 2.9  2.95 3.   3.05 3.1  3.15 3.2  3.25 3.3  3.35 3.4  3.45\n",
      " 3.5  3.55 3.6  3.65 3.7  3.75 3.8  3.85 3.9  3.95 4.   4.05 4.1  4.15\n",
      " 4.2  4.25 4.3  4.35 4.4  4.45 4.5  4.55 4.6  4.65 4.7  4.75 4.8  4.85\n",
      " 4.9  4.95]\n",
      "m6-linspace: [0.         0.05050505 0.1010101  0.15151515 0.2020202  0.25252525\n",
      " 0.3030303  0.35353535 0.4040404  0.45454545 0.50505051 0.55555556\n",
      " 0.60606061 0.65656566 0.70707071 0.75757576 0.80808081 0.85858586\n",
      " 0.90909091 0.95959596 1.01010101 1.06060606 1.11111111 1.16161616\n",
      " 1.21212121 1.26262626 1.31313131 1.36363636 1.41414141 1.46464646\n",
      " 1.51515152 1.56565657 1.61616162 1.66666667 1.71717172 1.76767677\n",
      " 1.81818182 1.86868687 1.91919192 1.96969697 2.02020202 2.07070707\n",
      " 2.12121212 2.17171717 2.22222222 2.27272727 2.32323232 2.37373737\n",
      " 2.42424242 2.47474747 2.52525253 2.57575758 2.62626263 2.67676768\n",
      " 2.72727273 2.77777778 2.82828283 2.87878788 2.92929293 2.97979798\n",
      " 3.03030303 3.08080808 3.13131313 3.18181818 3.23232323 3.28282828\n",
      " 3.33333333 3.38383838 3.43434343 3.48484848 3.53535354 3.58585859\n",
      " 3.63636364 3.68686869 3.73737374 3.78787879 3.83838384 3.88888889\n",
      " 3.93939394 3.98989899 4.04040404 4.09090909 4.14141414 4.19191919\n",
      " 4.24242424 4.29292929 4.34343434 4.39393939 4.44444444 4.49494949\n",
      " 4.54545455 4.5959596  4.64646465 4.6969697  4.74747475 4.7979798\n",
      " 4.84848485 4.8989899  4.94949495 5.        ]\n"
     ]
    }
   ],
   "source": [
    "m1 = np.ones((3,3))\n",
    "print(\"m1:\", m1)\n",
    "\n",
    "m2 = np.zeros((2, 2))\n",
    "print(\"m2:\", m2)\n",
    "\n",
    "m3 = np.full((1, 2), 9)\n",
    "print(\"m3:\", m3)\n",
    "\n",
    "m4 = np.full((), 39)\n",
    "print(\"m4:\", m4)\n",
    "\n",
    "m5 = np.random.random((2,5))\n",
    "print(\"m5:\", m5)\n",
    "\n",
    "# m6 solution 1 np.arange\n",
    "m6 = np.arange(0, 5, 5/100)\n",
    "print(\"m6-arange:\", m6)\n",
    "\n",
    "# m6 solution 2 np.linspace\n",
    "m6 = np.linspace(0, 5, 100)\n",
    "print(\"m6-linspace:\", m6)"
   ]
  },
  {
   "cell_type": "code",
   "execution_count": 4,
   "metadata": {
    "ExecuteTime": {
     "end_time": "2024-10-07T12:18:51.852025Z",
     "start_time": "2024-10-07T12:18:51.845178Z"
    }
   },
   "outputs": [
    {
     "data": {
      "text/plain": "numpy.ndarray"
     },
     "execution_count": 4,
     "metadata": {},
     "output_type": "execute_result"
    }
   ],
   "source": [
    "type(m4) # It is still a numpy array!"
   ]
  },
  {
   "cell_type": "code",
   "execution_count": 7,
   "metadata": {
    "ExecuteTime": {
     "end_time": "2024-10-07T12:21:57.182791Z",
     "start_time": "2024-10-07T12:21:57.173795Z"
    }
   },
   "outputs": [
    {
     "name": "stdout",
     "output_type": "stream",
     "text": [
      "Is m5_2 equal to m5? False\n"
     ]
    },
    {
     "data": {
      "text/plain": "array([[0.98108014, 0.71498218, 0.19154822, 0.27350623, 0.28060004],\n       [0.61517536, 0.38823665, 0.23241987, 0.5288957 , 0.12138251]])"
     },
     "execution_count": 7,
     "metadata": {},
     "output_type": "execute_result"
    }
   ],
   "source": [
    "m5_2 = np.random.random((2,5)) # Of course if we call again the np.random.random function we get different values\n",
    "print(\"Is m5_2 equal to m5?\", np.array_equal(m5, m5_2))\n",
    "\n",
    "# Below a way to directly inspect the values of the array provided by jupyter notebooks: as last line of a cell\n",
    "# you call a variable without assigning anything. It would not work in a standard python script.\n",
    "m5_2 "
   ]
  }
 ],
 "metadata": {
  "kernelspec": {
   "display_name": "Python 3 (ipykernel)",
   "language": "python",
   "name": "python3"
  },
  "language_info": {
   "codemirror_mode": {
    "name": "ipython",
    "version": 3
   },
   "file_extension": ".py",
   "mimetype": "text/x-python",
   "name": "python",
   "nbconvert_exporter": "python",
   "pygments_lexer": "ipython3",
   "version": "3.10.12"
  }
 },
 "nbformat": 4,
 "nbformat_minor": 2
}

{
 "cells": [
  {
   "cell_type": "markdown",
   "id": "5750bfdda43b71c5",
   "metadata": {},
   "source": [
    "# Let's make some graph with Matplotlib\n",
    "In this notebook we will get used to the different types of plotting: \n",
    "- stateful, which employs the pyplot interface\n",
    "- stateless, which employs the object-oriented interface (i.e. the methods of the Figure and Axes classes)\n"
   ]
  },
  {
   "cell_type": "code",
   "execution_count": null,
   "id": "810f005e4f4691d7",
   "metadata": {
    "is_executing": true
   },
   "outputs": [],
   "source": [
    "# when using Jupyter notebooks we always need this line to display the plots in the notebook\n",
    "%matplotlib inline \n",
    "import matplotlib.pyplot as plt\n",
    "import numpy as np"
   ]
  },
  {
   "cell_type": "markdown",
   "id": "d18fd4d75ce73e5f",
   "metadata": {},
   "source": [
    "## Exercise 1: plotting with stateful configuration\n",
    "\n",
    "You have the following data to plot:\n",
    "- x a range of points within 0 and 5 spaced by 0.1\n",
    "- y = sin(x)\n",
    "\n",
    "You also need to set \n",
    " - the title to: \"My first plot\"\n",
    " - horizontal axis name: \"x\"\n",
    " - vertical axis name: \"sin(x)\" \n"
   ]
  },
  {
   "cell_type": "code",
   "execution_count": null,
   "id": "8b2e68104915a068",
   "metadata": {
    "is_executing": true
   },
   "outputs": [],
   "source": []
  },
  {
   "cell_type": "markdown",
   "id": "c8c730888d2cbd0",
   "metadata": {},
   "source": [
    "## Exercise 2: plotting with stateless configuration\n",
    "\n",
    "You have the same data and names as before to plot while using a stateless configuration.\n",
    "If you do everything correctly, you should get the same plot as before.\n"
   ]
  },
  {
   "cell_type": "code",
   "execution_count": null,
   "id": "cfebcac482aede21",
   "metadata": {
    "is_executing": true
   },
   "outputs": [],
   "source": []
  },
  {
   "cell_type": "code",
   "execution_count": null,
   "id": "d2885f1951f59497",
   "metadata": {
    "is_executing": true
   },
   "outputs": [],
   "source": []
  }
 ],
 "metadata": {
  "kernelspec": {
   "display_name": "Python 3 (ipykernel)",
   "language": "python",
   "name": "python3"
  },
  "language_info": {
   "codemirror_mode": {
    "name": "ipython",
    "version": 3
   },
   "file_extension": ".py",
   "mimetype": "text/x-python",
   "name": "python",
   "nbconvert_exporter": "python",
   "pygments_lexer": "ipython3",
   "version": "3.11.5"
  }
 },
 "nbformat": 4,
 "nbformat_minor": 5
}

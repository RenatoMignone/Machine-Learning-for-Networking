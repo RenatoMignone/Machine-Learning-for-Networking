{
 "cells": [
  {
   "cell_type": "markdown",
   "id": "d6a0eea7",
   "metadata": {},
   "source": [
    "# Let's try Tuples and Lists \n",
    "In this second set of exercises we will try to understand how to manipulate Tuples and Lists"
   ]
  },
  {
   "cell_type": "markdown",
   "id": "0a9fe480",
   "metadata": {},
   "source": [
    "## Exercise 1 Modify a given tuple \n",
    "Write a script that modify a given tuple by writing the number 3 as the second element of a tuple\n",
    "e.g. given the tuple `(10, 23, 52)` the script should return `(10, 3, 52)`\n"
   ]
  },
  {
   "cell_type": "code",
   "execution_count": 3,
   "id": "86caf929",
   "metadata": {
    "ExecuteTime": {
     "end_time": "2023-10-02T18:07:09.812684800Z",
     "start_time": "2023-10-02T18:07:09.799214800Z"
    }
   },
   "outputs": [
    {
     "name": "stdout",
     "output_type": "stream",
     "text": [
      "(10, 3, 52)\n"
     ]
    },
    {
     "data": {
      "text/plain": [
       "tuple"
      ]
     },
     "execution_count": 3,
     "metadata": {},
     "output_type": "execute_result"
    }
   ],
   "source": [
    "a = (10, 23, 52)\n",
    "\n",
    "# a[2] = 3 THIS DOES NOT WORK! TUPLES ARE IMMUTABLES\n",
    "\n",
    "\n",
    "\n",
    "# a[0] + (3,) + a[2:] DOES NOT WORK EITHER: YOU ARE CONCATENATING INTEGERS (a[0]) WITH TUPLES\n",
    "\n",
    "a = a[:1] + (3,) + a[2:]\n",
    "\n",
    "print(a)\n",
    "type(a)"
   ]
  },
  {
   "cell_type": "markdown",
   "id": "e960f468",
   "metadata": {},
   "source": [
    "## Exercise 2 Revert the order of the elements\n",
    "Return a given tuple with elements in the reverse order\n",
    "e.g. given the tuple `(2, 4, 5, 8)` the script should return `(8, 5, 4, 2)`\n"
   ]
  },
  {
   "cell_type": "code",
   "execution_count": 5,
   "id": "9425f41a",
   "metadata": {
    "ExecuteTime": {
     "end_time": "2023-10-02T18:07:09.870892100Z",
     "start_time": "2023-10-02T18:07:09.807336400Z"
    }
   },
   "outputs": [
    {
     "name": "stdout",
     "output_type": "stream",
     "text": [
      "Original List (2, 4, 5, 8)\n",
      "Reversed List (2, 4, 5, 8)\n"
     ]
    }
   ],
   "source": [
    "a = (2, 4, 5, 8)\n",
    "b = a[::-1]\n",
    "\n",
    "print(\"Original List\", a)\n",
    "print(\"Reversed List\", b)"
   ]
  },
  {
   "cell_type": "markdown",
   "id": "5ef50b6c",
   "metadata": {},
   "source": [
    "## Exercise 3 Remove list duplicates \n",
    "Remove all duplicates from a given list\n",
    "e.g. given the list `[1, 5, 5, 4, 2, 8, 3, 3]` the script should return `[1, 5, 4, 2, 8, 3]`"
   ]
  },
  {
   "cell_type": "code",
   "execution_count": 6,
   "id": "8351585c",
   "metadata": {
    "ExecuteTime": {
     "end_time": "2023-10-02T18:07:09.870892100Z",
     "start_time": "2023-10-02T18:07:09.819212900Z"
    },
    "scrolled": true
   },
   "outputs": [
    {
     "name": "stdout",
     "output_type": "stream",
     "text": [
      "[1, 5, 4, 2, 8, 3]\n"
     ]
    }
   ],
   "source": [
    "input_list = [1, 5, 5, 4, 2, 8, 3, 3]\n",
    "\n",
    "out_list = []\n",
    "for element in input_list:\n",
    "    if element not in out_list:\n",
    "        out_list.append(element)\n",
    "        \n",
    "print(out_list)"
   ]
  },
  {
   "cell_type": "markdown",
   "id": "27b5b5b9",
   "metadata": {},
   "source": [
    "## Exercise 4 Euclidean distance between two vectors\n",
    "Compute the euclidean distances between two vectors (passed as lists) as following:\n",
    "\n",
    "$ dist(v1, v2) = \\sqrt{\\sum_i{(v1_i-v2_i)^2}} $\n",
    "\n",
    "*hint*: you can use the `math.sqrt` function to compute the square root of a number"
   ]
  },
  {
   "cell_type": "code",
   "execution_count": 9,
   "id": "85dd21f2",
   "metadata": {
    "ExecuteTime": {
     "end_time": "2023-10-02T18:07:09.883137Z",
     "start_time": "2023-10-02T18:07:09.824208100Z"
    }
   },
   "outputs": [
    {
     "name": "stdout",
     "output_type": "stream",
     "text": [
      "1 2\n",
      "2 4\n",
      "3 5\n",
      "The euclidean distance between the vectors is: 3.0\n"
     ]
    }
   ],
   "source": [
    "import math\n",
    "v1 = [1,2,3]\n",
    "v2 = [2,4,5]\n",
    "\n",
    "dist = 0\n",
    "for v1_el, v2_el in zip(v1, v2):\n",
    "    print(v1_el, v2_el)\n",
    "    dist += (v1_el-v2_el)**2\n",
    "    \n",
    "dist = math.sqrt(dist)\n",
    "\n",
    "print(f\"The euclidean distance between the vectors is: {dist:.2}\")"
   ]
  }
 ],
 "metadata": {
  "kernelspec": {
   "display_name": "Python 3 (ipykernel)",
   "language": "python",
   "name": "python3"
  },
  "language_info": {
   "codemirror_mode": {
    "name": "ipython",
    "version": 3
   },
   "file_extension": ".py",
   "mimetype": "text/x-python",
   "name": "python",
   "nbconvert_exporter": "python",
   "pygments_lexer": "ipython3",
   "version": "3.10.12"
  }
 },
 "nbformat": 4,
 "nbformat_minor": 5
}

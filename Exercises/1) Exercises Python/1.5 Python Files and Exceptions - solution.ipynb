{
 "cells": [
  {
   "cell_type": "markdown",
   "metadata": {},
   "source": [
    "# Files and Exception handling\n",
    "In this last set of python exercies we will try to understand how to use files and how to handle exceptions.\n"
   ]
  },
  {
   "cell_type": "markdown",
   "metadata": {},
   "source": [
    "# Exercise 1 File reading\n",
    "Write a function that reads the file `\"data/X.csv\"` and returns a list of lines in the file.\n"
   ]
  },
  {
   "cell_type": "code",
   "execution_count": 1,
   "metadata": {
    "ExecuteTime": {
     "end_time": "2024-09-30T21:09:00.070398Z",
     "start_time": "2024-09-30T21:09:00.060053Z"
    }
   },
   "outputs": [
    {
     "name": "stdout",
     "output_type": "stream",
     "text": [
      "['6.779715308684060027e-01 7.770721983616736273e-01\\n', '7.036235067205162119e-01 7.293265354455533700e-01\\n', '-6.420914095658556420e-01 6.132021745804364654e-01\\n', '1.964945619912502162e+00 4.232419004763122994e-02\\n', '2.125585087491693170e-01 9.743028109225519984e-01\\n', '1.985026357852177070e-01 -1.278696781740275012e-01\\n', '1.708068271027710638e-01 9.725916387906976546e-01\\n', '1.355200100408331387e-01 7.197592992176853055e-02\\n', '1.739606612718880563e-01 1.000146714222773126e+00\\n', '7.673138114077261429e-01 5.922493528253478523e-01\\n']\n",
      "['6.779715308684060027e-01 7.770721983616736273e-01\\n', '7.036235067205162119e-01 7.293265354455533700e-01\\n', '-6.420914095658556420e-01 6.132021745804364654e-01\\n', '1.964945619912502162e+00 4.232419004763122994e-02\\n', '2.125585087491693170e-01 9.743028109225519984e-01\\n', '1.985026357852177070e-01 -1.278696781740275012e-01\\n', '1.708068271027710638e-01 9.725916387906976546e-01\\n', '1.355200100408331387e-01 7.197592992176853055e-02\\n', '1.739606612718880563e-01 1.000146714222773126e+00\\n', '7.673138114077261429e-01 5.922493528253478523e-01\\n']\n"
     ]
    }
   ],
   "source": [
    "filename = \"data/X.csv\"\n",
    "\n",
    "# solution 1: all lines together\n",
    "def read_file1(filename):\n",
    "    \n",
    "    with open(filename, 'r') as f:\n",
    "        return f.readlines()\n",
    "\n",
    "\n",
    "# solution 2: line by line\n",
    "def read_file2(filename):\n",
    "    with open(filename, 'r') as f:\n",
    "        lines = []\n",
    "        for line in f:\n",
    "            lines.append(line)\n",
    "        return lines\n",
    "\n",
    "    \n",
    "lines = read_file1(filename)\n",
    "print(lines[:10])\n",
    "\n",
    "lines = read_file2(filename)\n",
    "print(lines[:10])"
   ]
  },
  {
   "cell_type": "markdown",
   "metadata": {},
   "source": [
    "# Exercise 2 File reading with exception handling\n",
    "Now we try to read a file that **does not exist**. What happens?\n",
    "\n",
    "Let's write a function that as previously returns a list of lines in the file `\"data/X.csv\"`. \n",
    "However, if the file does not exist, the function should return an empty list.\n"
   ]
  },
  {
   "cell_type": "code",
   "execution_count": 2,
   "metadata": {
    "ExecuteTime": {
     "end_time": "2023-10-02T20:40:35.565579800Z",
     "start_time": "2023-10-02T20:40:35.472862500Z"
    }
   },
   "outputs": [
    {
     "name": "stdout",
     "output_type": "stream",
     "text": [
      "File data/X.csv read with success\n",
      "['6.779715308684060027e-01 7.770721983616736273e-01\\n', '7.036235067205162119e-01 7.293265354455533700e-01\\n', '-6.420914095658556420e-01 6.132021745804364654e-01\\n', '1.964945619912502162e+00 4.232419004763122994e-02\\n', '2.125585087491693170e-01 9.743028109225519984e-01\\n', '1.985026357852177070e-01 -1.278696781740275012e-01\\n', '1.708068271027710638e-01 9.725916387906976546e-01\\n', '1.355200100408331387e-01 7.197592992176853055e-02\\n', '1.739606612718880563e-01 1.000146714222773126e+00\\n', '7.673138114077261429e-01 5.922493528253478523e-01\\n']\n",
      "File data/X2.csv not found\n",
      "[]\n"
     ]
    }
   ],
   "source": [
    "def read_file_with_exception(filename):\n",
    "    try:\n",
    "        with open(filename, 'r') as f:\n",
    "            print(f\"File {filename} read with success\")\n",
    "            return f.readlines()\n",
    "    except FileNotFoundError:\n",
    "        print(f\"File {filename} not found\")\n",
    "        return []\n",
    "\n",
    "filename = \"data/X.csv\"\n",
    "lines = read_file_with_exception(filename)\n",
    "print(lines[:10])\n",
    "\n",
    "filename = \"data/X2.csv\"\n",
    "lines = read_file_with_exception(filename)\n",
    "print(lines[:10])"
   ]
  },
  {
   "cell_type": "markdown",
   "metadata": {},
   "source": [
    "## Exercise 3 Classes and exception handling: reading csv files\n",
    "Implement a class that reads a csv file with header and allows accessing data by column.\n",
    "- The columns must be a private attribute of the class.\n",
    "- The class must have a method that returns the column names.\n",
    "- The class must have a method that returns the values of a column given the column name.\n",
    "\n",
    "Example of csv file:\n",
    "```\n",
    "ID,Name,Age\n",
    "1,John,20\n",
    "2,Alicia,30\n",
    "```\n",
    "\n",
    "Example of usage:\n",
    "```\n",
    "table = Table('data/TableExample.csv')\n",
    "print(f\"Columns: {table.get_column_names()}\")\n",
    "print(f\"'Age' column {table.get_column('Age')})\n",
    "```\n"
   ]
  },
  {
   "cell_type": "code",
   "execution_count": 5,
   "metadata": {
    "ExecuteTime": {
     "end_time": "2023-10-02T20:40:35.573756800Z",
     "start_time": "2023-10-02T20:40:35.562581500Z"
    }
   },
   "outputs": [],
   "source": [
    "class Table:\n",
    "    def __init__(self, file_path):\n",
    "        # Step 1: {'ID': [], 'Name': [] ... }\n",
    "        # Step 2: {'ID': ['1', '2', '3'], 'Name': ['John', 'Alicia', 'Sam'] ... }\n",
    "        try:\n",
    "            with open(file_path, 'r') as f:\n",
    "                header = f.readline().strip().split(',')   # Split header fields\n",
    "    \n",
    "                # Add an empty list for each table column\n",
    "                self.__columns = {col : [] for col in header}\n",
    "    \n",
    "                for line in f:\n",
    "                    # Split line fields and fill the different columns\n",
    "                    for value, column in zip(line.split(','), self.__columns.keys()):\n",
    "                        self.__columns[column].append(value)\n",
    "\n",
    "        except FileNotFoundError:\n",
    "            print(\"Error while loading table\")\n",
    "\n",
    "\n",
    "    def get_column_names(self):\n",
    "        \"\"\"\n",
    "        :return: list of column names.\n",
    "        \"\"\"\n",
    "        return list(self.__columns.keys())\n",
    "    \n",
    "    def get_column(self, column_name):\n",
    "        \"\"\"\n",
    "        :param column_name: name of the column to be returned.\n",
    "        \"\"\"\n",
    "        return self.__columns[column_name]\n"
   ]
  },
  {
   "cell_type": "code",
   "execution_count": 6,
   "metadata": {
    "ExecuteTime": {
     "end_time": "2023-10-02T20:40:35.629182900Z",
     "start_time": "2023-10-02T20:40:35.569580900Z"
    }
   },
   "outputs": [
    {
     "name": "stdout",
     "output_type": "stream",
     "text": [
      "'Age' column ['56\\n', '78\\n', '34\\n']\n"
     ]
    }
   ],
   "source": [
    "table = Table('data/TableExample.csv')\n",
    "# print(f\"Columns: {table.get_column_names()}\")\n",
    "print(f\"'Age' column {table.get_column('Age')}\")\n"
   ]
  }
 ],
 "metadata": {
  "kernelspec": {
   "display_name": "Python 3 (ipykernel)",
   "language": "python",
   "name": "python3"
  },
  "language_info": {
   "codemirror_mode": {
    "name": "ipython",
    "version": 3
   },
   "file_extension": ".py",
   "mimetype": "text/x-python",
   "name": "python",
   "nbconvert_exporter": "python",
   "pygments_lexer": "ipython3",
   "version": "3.10.12"
  }
 },
 "nbformat": 4,
 "nbformat_minor": 4
}

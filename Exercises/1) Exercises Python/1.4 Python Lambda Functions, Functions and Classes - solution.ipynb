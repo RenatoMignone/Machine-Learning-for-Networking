{
 "cells": [
  {
   "cell_type": "markdown",
   "id": "330e8f6b",
   "metadata": {},
   "source": [
    "# Lambda Functions, Functions and Classes\n",
    "In this fourth set of python exercices we will try to understand how to use Lambda functions, Functions and Classes"
   ]
  },
  {
   "cell_type": "markdown",
   "id": "726baf2a",
   "metadata": {},
   "source": [
    "## Exercise 1 Lambda Functions\n",
    "Write a rule that allow us to predict the output label for a given input sample according to the sample features.\n",
    "- Each input **sample** is a **dictionary**.\n",
    "- The **Rule** specifies the output label that must be assigned to the sample based on its dictionary fields\n",
    "- Apply the rule on a stream of samples coming from a list without using a loop\n",
    "\n",
    "**Example of sample:**\n",
    "my_sample = {'temperature' : 20, 'humidity' : 0.8}\n",
    "\n",
    "**Example of rule:**\n",
    "if temperature > 5 and humidity > 0.7 then label = 'Rainy day'\n",
    "else label = \"Sunny day\"\n"
   ]
  },
  {
   "cell_type": "code",
   "execution_count": 24,
   "id": "66049380",
   "metadata": {
    "ExecuteTime": {
     "end_time": "2023-10-02T20:01:01.805276400Z",
     "start_time": "2023-10-02T20:01:01.746357800Z"
    }
   },
   "outputs": [
    {
     "name": "stdout",
     "output_type": "stream",
     "text": [
      "['Rainy day', 'Sunny day']\n"
     ]
    }
   ],
   "source": [
    "my_samples = [\n",
    "    {'temperature' : 20, 'humidity' : 0.8},\n",
    "    {'temperature' : 15, 'humidity' : 0.5}\n",
    "]\n",
    "\n",
    "my_lambda_function = lambda x: 'Rainy day' if x['temperature']> 5 and x['humidity']>0.7 else 'Sunny day'\n",
    "\n",
    "# print(my_lambda_function) # this does not work! we are not passing anything to the funnction\n",
    "# print(map(my_lambda_function, my_samples)) # this does not work! map is an iterator over the variables, it does not process the list until is unpacked \n",
    "\n",
    "# solution 1: use a list to process the map function\n",
    "print(list(map(my_lambda_function, my_samples)))\n",
    "\n",
    "# solution: unpack the map with starred expression\n",
    "# print(*map(my_lambda_function, my_samples))"
   ]
  },
  {
   "cell_type": "markdown",
   "id": "9569d623",
   "metadata": {},
   "source": [
    "## Exercise 2 Functions\n",
    "Now let's write a functions that receives in input the value and output the label in a similar way.\n",
    "- Try to use a list comprehension this time to predict the samples\n",
    "\n",
    "**Note**: remember to pass a default class as optional argument"
   ]
  },
  {
   "cell_type": "code",
   "execution_count": 26,
   "id": "46686ba1",
   "metadata": {
    "ExecuteTime": {
     "end_time": "2023-09-26T16:28:27.241755300Z",
     "start_time": "2023-09-26T16:28:27.176599800Z"
    }
   },
   "outputs": [
    {
     "name": "stdout",
     "output_type": "stream",
     "text": [
      "['Rainy day', 'Sunny day']\n"
     ]
    }
   ],
   "source": [
    "def weather(day, default_class=\"Sunny day\"):\n",
    "    if day['temperature'] > 5 and day['humidity'] > 0.7:\n",
    "        return \"Rainy day\"\n",
    "    else:\n",
    "        return default_class\n",
    "\n",
    "    \n",
    "\n",
    "# print(weather(my_samples[0]))\n",
    "print([f\"It is a {weather(my_sample)}\\n\" for my_sample in my_samples])"
   ]
  },
  {
   "cell_type": "markdown",
   "id": "97324c58",
   "metadata": {},
   "source": [
    "## Exercise 3 Classes\n",
    "Now let's create a Rule-based ML Model!\n",
    "To do so you have to create a class with the following characteristics:\n",
    "- The model can consider **more than one rule**\n",
    "- It should also request with its constructor a **default label** that is assigned when none of the rules apply to the sample\n",
    "\n",
    "*hint*: pass the rule to the predictor as lambda functions\n",
    "\n",
    "**Example of usage:**\n",
    "rule_model = RuleModel('Sunny day')\n",
    "rule_model.add_rule(lambda x: x['temperature']>5 and x['humidity']>0.7, 'Rainy day')\n",
    "rule_model.predict({'temperature' : 15, 'humidity' : 0.8})\n"
   ]
  },
  {
   "cell_type": "code",
   "execution_count": 28,
   "id": "71f09a59",
   "metadata": {
    "ExecuteTime": {
     "end_time": "2023-10-02T20:20:04.385811300Z",
     "start_time": "2023-10-02T20:20:04.269408400Z"
    }
   },
   "outputs": [],
   "source": [
    "class RuleModel:\n",
    "    __rules = []    # Private member of the class\n",
    "\n",
    "    def __init__(self, default_class):\n",
    "        \"\"\"\n",
    "        Create the rule-based model.\n",
    "        :param default_class: default class when no rule applies\n",
    "        \"\"\"\n",
    "        self.__default_class = default_class\n",
    "\n",
    "    def add_rule(self, rule, output_class):\n",
    "        \"\"\"\n",
    "        Add rule to the model.\n",
    "        :param rule: lambda function with the conditions on the input sample\n",
    "        :param output_class: output label to be assigned when the rule is satisfied\n",
    "        \"\"\"\n",
    "        self.__rules.append((rule, output_class))\n",
    "\n",
    "    def predict(self, x):\n",
    "        \"\"\"\n",
    "        Apply rules to a sample. The first rule that applies represents the output label.\n",
    "        :param x: dictionary representing the input sample \n",
    "        \"\"\"\n",
    "        for rule, out_class in self.__rules:\n",
    "            if rule(x):\n",
    "                return out_class\n",
    "        return self.__default_class"
   ]
  },
  {
   "cell_type": "code",
   "execution_count": 30,
   "id": "cff676e6",
   "metadata": {
    "ExecuteTime": {
     "end_time": "2023-10-02T20:20:06.118208200Z",
     "start_time": "2023-10-02T20:20:05.633665700Z"
    }
   },
   "outputs": [
    {
     "name": "stdout",
     "output_type": "stream",
     "text": [
      "['It is a Rainy day\\n', 'It is a Sunny day\\n']\n"
     ]
    }
   ],
   "source": [
    "# Creation\n",
    "rule_clf = RuleModel('Sunny day')\n",
    "\n",
    "# Add rules\n",
    "rule_clf.add_rule(lambda x: x['temperature']>5 and x['humidity']>0.7, 'Rainy day')\n",
    "rule_clf.add_rule(lambda x: x['temperature']<5 and x['humidity']>0.7, 'Snowy day')\n",
    "\n",
    "# Perform classification\n",
    "print(f\"It is a {rule_clf.predict({'temperature' : 15, 'humidity' : 0.8})}\")\n",
    "print(f\"It is a {rule_clf.predict({'temperature' : 2, 'humidity' : 0.8})}\")\n",
    "print(f\"It is a {rule_clf.predict({'temperature' : 30, 'humidity' : 0.4})}\")\n",
    "\n",
    "\n",
    "# print([f\"It is a {rule_clf.predict(my_sample)}\\n\" for my_sample in my_samples])"
   ]
  },
  {
   "cell_type": "code",
   "execution_count": null,
   "id": "e49be7d79da1c78c",
   "metadata": {},
   "outputs": [],
   "source": []
  }
 ],
 "metadata": {
  "kernelspec": {
   "display_name": "Python 3 (ipykernel)",
   "language": "python",
   "name": "python3"
  },
  "language_info": {
   "codemirror_mode": {
    "name": "ipython",
    "version": 3
   },
   "file_extension": ".py",
   "mimetype": "text/x-python",
   "name": "python",
   "nbconvert_exporter": "python",
   "pygments_lexer": "ipython3",
   "version": "3.10.12"
  }
 },
 "nbformat": 4,
 "nbformat_minor": 5
}

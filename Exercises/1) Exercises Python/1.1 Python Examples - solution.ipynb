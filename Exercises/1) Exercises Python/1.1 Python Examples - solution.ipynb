{
 "cells": [
  {
   "cell_type": "markdown",
   "id": "ba90c56d",
   "metadata": {},
   "source": [
    "# Welcome to the first python coding session!\n",
    "\n",
    "\n",
    "In this tutorial we will solve some simple exercises together to better understand/review python basics mechanisms"
   ]
  },
  {
   "cell_type": "markdown",
   "id": "9a2b6f2a",
   "metadata": {},
   "source": [
    "## Exercise 1 Twinkle Twinkle Little Star\n",
    "\n",
    "Write a python script that output the text of the song \"Twinkle Twinkle Little Star\" formatted as follows:\n",
    "\n",
    "Twinkle, twinkle, little star,\n",
    "\n",
    "&emsp; How I wonder what you are! \n",
    "\n",
    "&emsp; &emsp; Up above the world so high,   \t\t\n",
    "\n",
    "&emsp; &emsp; &emsp;\t\tLike a diamond in the sky. \n",
    "\n",
    "Twinkle, twinkle, little star, \n",
    "\n",
    "&emsp;\tHow I wonder what you are"
   ]
  },
  {
   "cell_type": "code",
   "execution_count": 2,
   "id": "d340cba1",
   "metadata": {
    "ExecuteTime": {
     "end_time": "2023-10-02T18:00:26.875122200Z",
     "start_time": "2023-10-02T18:00:26.843707Z"
    }
   },
   "outputs": [
    {
     "name": "stdout",
     "output_type": "stream",
     "text": [
      "Twinkle, twinkle, little star,       \n",
      "\tHow I wonder what you are!       \n",
      "\t\tUp above the world so high, \n",
      "\t\t\tLike a diamond in the sky. \n",
      "Twinkle, twinkle, little star, \n",
      "\tHow I wonder what you are!\n"
     ]
    }
   ],
   "source": [
    "print(\"Twinkle, twinkle, little star, \\\n",
    "      \\n\\tHow I wonder what you are! \\\n",
    "      \\n\\t\\tUp above the world so high, \" \n",
    "      \"\\n\\t\\t\\tLike a diamond in the sky. \"\n",
    "      \"\\nTwinkle, twinkle, little star, \"\n",
    "      \"\\n\\tHow I wonder what you are!\")\n"
   ]
  },
  {
   "cell_type": "markdown",
   "id": "0c38315a",
   "metadata": {},
   "source": [
    "## Exercise 2 Print Python version\n",
    "Write a python script that output which python version you are using\n",
    "\n",
    "*Hint*: use `sys.version` or `os.system(...)` or a terminal command starting with `!`"
   ]
  },
  {
   "cell_type": "code",
   "execution_count": 3,
   "id": "dbd184eb",
   "metadata": {
    "ExecuteTime": {
     "end_time": "2023-10-02T18:00:26.877640600Z",
     "start_time": "2023-10-02T18:00:26.850225100Z"
    }
   },
   "outputs": [
    {
     "name": "stdout",
     "output_type": "stream",
     "text": [
      "Python version\n",
      "3.10.12 (main, Jun 11 2023, 05:26:28) [GCC 11.4.0]\n"
     ]
    },
    {
     "data": {
      "text/plain": [
       "'linux'"
      ]
     },
     "execution_count": 3,
     "metadata": {},
     "output_type": "execute_result"
    }
   ],
   "source": [
    "# solution 1 using sys\n",
    "import sys\n",
    "print(\"Python version\")\n",
    "print (sys.version)\n",
    "sys.platform"
   ]
  },
  {
   "cell_type": "code",
   "execution_count": 15,
   "id": "3844df12",
   "metadata": {
    "ExecuteTime": {
     "end_time": "2023-10-02T18:00:26.940363100Z",
     "start_time": "2023-10-02T18:00:26.860478500Z"
    }
   },
   "outputs": [
    {
     "name": "stdout",
     "output_type": "stream",
     "text": [
      "Python version\n",
      "Python 3.11.4\n"
     ]
    }
   ],
   "source": [
    "# solution 2 using os.system()\n",
    "import os\n",
    "print(\"Python version\")\n",
    "os.system(\"python --version\")\n",
    "print(\"\")"
   ]
  },
  {
   "cell_type": "code",
   "execution_count": 4,
   "id": "6e6473bd",
   "metadata": {
    "ExecuteTime": {
     "end_time": "2023-10-02T18:00:27.001065700Z",
     "start_time": "2023-10-02T18:00:26.893268900Z"
    }
   },
   "outputs": [
    {
     "name": "stdout",
     "output_type": "stream",
     "text": [
      "/bin/bash: line 1: python: command not found\r\n"
     ]
    }
   ],
   "source": [
    "# solution 3 using ! to write a terminal command\n",
    "! python --version"
   ]
  },
  {
   "cell_type": "markdown",
   "id": "88b2a17f",
   "metadata": {},
   "source": [
    "## Exercise 3 Compute area of a circle \n",
    "Write a python script computing the area of a circle. \n",
    "\n",
    "The radius of the circle is provided by the user.\n",
    "To provide the radius simply use the function: \n",
    "```\n",
    "    radius = input(message)\n",
    "```\n",
    "\n",
    "Where message represents the name displayed before the input cell."
   ]
  },
  {
   "cell_type": "code",
   "execution_count": 5,
   "id": "787129dd",
   "metadata": {
    "ExecuteTime": {
     "end_time": "2023-10-02T18:00:28.748419700Z",
     "start_time": "2023-10-02T18:00:27.001065700Z"
    },
    "tags": []
   },
   "outputs": [
    {
     "name": "stdout",
     "output_type": "stream",
     "text": [
      "Radius of the circle: 62\n",
      "The area of the circle is: 1.21e+04\n"
     ]
    }
   ],
   "source": [
    "from math import pi\n",
    "# input(message) will write the message on the console \n",
    "# and then wait for any input from the user. The input will\n",
    "r = input(\"Radius of the circle: \")\n",
    "float_r = float(r)\n",
    "\n",
    "print (f\"The area of the circle is: {(pi * float_r**2):.3}\")"
   ]
  },
  {
   "cell_type": "markdown",
   "id": "e5cee82a",
   "metadata": {},
   "source": [
    "## Exercise 4 Swap Java with Python \n",
    "Write a python script that and swap the word \"python\" with \"java\" and viceversa in a given string\n",
    "\n"
   ]
  },
  {
   "cell_type": "code",
   "execution_count": 16,
   "id": "117746ca",
   "metadata": {
    "ExecuteTime": {
     "end_time": "2023-10-02T18:00:28.748419700Z",
     "start_time": "2023-10-02T18:00:28.737893500Z"
    }
   },
   "outputs": [
    {
     "name": "stdout",
     "output_type": "stream",
     "text": [
      "python is much more fun than java\n"
     ]
    }
   ],
   "source": [
    "input_string = \"java is much more fun than python\"\n",
    "\n",
    "# new_string = input_string.replace(\"java\", \"python\").replace(\"python\", \"java\")\n",
    "new_string = input_string.replace(\"java\", \"pyt_hon\").replace(\"python\", \"ja_va\").replace(\"_\", \"\")\n",
    "print(new_string)"
   ]
  },
  {
   "cell_type": "markdown",
   "id": "cfa4f80a",
   "metadata": {},
   "source": [
    "## Exercise 5 Print file extension\n",
    "Write a python script that output name and the extension of a file provided as input.\n",
    "\n",
    "Note: the file doesn't have to *actually* exists"
   ]
  },
  {
   "cell_type": "code",
   "execution_count": 17,
   "id": "e777a5ae",
   "metadata": {
    "ExecuteTime": {
     "end_time": "2023-10-02T18:00:33.209160900Z",
     "start_time": "2023-10-02T18:00:28.741903200Z"
    }
   },
   "outputs": [
    {
     "name": "stdout",
     "output_type": "stream",
     "text": [
      "Name of the input filefile.txt\n",
      "The extension of your file is: .txt\n"
     ]
    }
   ],
   "source": [
    "input_file = input(\"Name of the input file\")\n",
    "\n",
    "extension = input_file.split(\".\")[-1]\n",
    "x\\\n",
    "print(\"The extension of your file is: .\" + extension)"
   ]
  }
 ],
 "metadata": {
  "kernelspec": {
   "display_name": "Python 3 (ipykernel)",
   "language": "python",
   "name": "python3"
  },
  "language_info": {
   "codemirror_mode": {
    "name": "ipython",
    "version": 3
   },
   "file_extension": ".py",
   "mimetype": "text/x-python",
   "name": "python",
   "nbconvert_exporter": "python",
   "pygments_lexer": "ipython3",
   "version": "3.10.12"
  }
 },
 "nbformat": 4,
 "nbformat_minor": 5
}

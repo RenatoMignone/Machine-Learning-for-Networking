{
 "cells": [
  {
   "cell_type": "markdown",
   "id": "c4f81383",
   "metadata": {},
   "source": [
    "# Let's try Dictionaries and Sets \n",
    "In this third set of exercises we will try to understand how to manipulate Dictionaries and Sets"
   ]
  },
  {
   "cell_type": "markdown",
   "id": "b1b4bae7",
   "metadata": {},
   "source": [
    "## Exercise 1 Keys and values manipulation\n",
    "Write a script reading a dictionary and returning a new dictionary with the keys and values swapped.\n",
    "e.g. given the dictionary `{\"a\": 1, \"b\": 2, \"c\": 3}` the script should return `{1: \"a\", 2: \"b\", 3: \"c\"}`\n",
    "\n"
   ]
  },
  {
   "cell_type": "code",
   "execution_count": 4,
   "id": "aa47b5b8",
   "metadata": {
    "ExecuteTime": {
     "end_time": "2023-10-02T20:50:36.471554100Z",
     "start_time": "2023-10-02T20:50:36.460233400Z"
    }
   },
   "outputs": [
    {
     "name": "stdout",
     "output_type": "stream",
     "text": [
      "{1: 'a', 2: 'b', 3: 'c'}\n"
     ]
    }
   ],
   "source": [
    "input_dict = {\"a\": 1, \"b\": 2, \"c\": 3}\n",
    "new_dict_with_swapped_keys_values = {}\n",
    "\n",
    "for key, value in input_dict.items():\n",
    "    new_dict_with_swapped_keys_values[value] = key\n",
    "print(new_dict_with_swapped_keys_values)\n"
   ]
  },
  {
   "cell_type": "markdown",
   "id": "81b3544d",
   "metadata": {},
   "source": [
    "\n",
    "## Exercise 2 Dictionary concatenations\n",
    "Write a script to concatenate the following dictionaries to create a new one.\n",
    "\n",
    "*Note*: you can use **at most** a single loop\n",
    "\n",
    "e.g.\n",
    "```\n",
    "dict1={1:10, 2:20}\n",
    "dict2={3:30, 4:40}\n",
    "dict3={5:50, 6:60}\n",
    "```\n",
    "\n",
    "Expected Result: `{1: 10, 2: 20, 3: 30, 4: 40, 5: 50, 6: 60}`\n"
   ]
  },
  {
   "cell_type": "code",
   "execution_count": 5,
   "id": "39063a39",
   "metadata": {
    "ExecuteTime": {
     "end_time": "2023-10-02T20:50:36.484050200Z",
     "start_time": "2023-10-02T20:50:36.471554100Z"
    }
   },
   "outputs": [
    {
     "name": "stdout",
     "output_type": "stream",
     "text": [
      "{1: 10, 2: 20, 3: 30, 4: 40, 5: 50, 6: 60}\n"
     ]
    }
   ],
   "source": [
    "dict1={1:10, 2:20}\n",
    "dict2={3:30, 4:40}\n",
    "dict3={5:50, 6:60}\n",
    "\n",
    "# dict4 = dict1 + dict2 + dict3 DOES NOT WORK\n",
    "\n",
    "# solution 1\n",
    "dict4 = {}\n",
    "for d in (dict1, dict2, dict3):\n",
    "    dict4.update(d)\n",
    "print(dict4)\n"
   ]
  },
  {
   "cell_type": "code",
   "execution_count": 6,
   "id": "7ab773f2-aedd-4ce6-86b5-d40911ffccc5",
   "metadata": {
    "ExecuteTime": {
     "end_time": "2023-10-02T20:50:36.500334600Z",
     "start_time": "2023-10-02T20:50:36.481005100Z"
    }
   },
   "outputs": [
    {
     "name": "stdout",
     "output_type": "stream",
     "text": [
      "{1: 10, 2: 20, 3: 30, 4: 40, 5: 50, 6: 60}\n"
     ]
    }
   ],
   "source": [
    "# solution 2 using iterable unpacking\n",
    "# *iterable = item1, item2, ... itemN \n",
    "\n",
    "# it allows you to extract an unpacked version of your iterable\n",
    "# very useful to:\n",
    "# 1) provide unpacked arguments of another functions \n",
    "# 2) to aggregate many iterables together as in this case\n",
    "\n",
    "dict4 = dict((*dict1.items(), *dict2.items(), *dict3.items())) \n",
    "print(dict4)"
   ]
  },
  {
   "cell_type": "markdown",
   "id": "6ed6c57d",
   "metadata": {},
   "source": [
    "\n",
    "## Exercise 3 Unique elements of a list (2)\n",
    "Same exercise as before but this time you have to use a set\n",
    "\n",
    "Given a list like `[1, 5, 5, 4, 2, 8, 3, 3]`\n",
    "\n",
    "Return a list with only the unique elements `[1, 2, 3, 4, 5, 8]`\n"
   ]
  },
  {
   "cell_type": "code",
   "execution_count": 9,
   "id": "7158b651",
   "metadata": {
    "ExecuteTime": {
     "end_time": "2023-10-02T20:50:36.512419500Z",
     "start_time": "2023-10-02T20:50:36.493820200Z"
    }
   },
   "outputs": [
    {
     "name": "stdout",
     "output_type": "stream",
     "text": [
      "The input list is:  [1, 5, 5, 4, 2, 8, 3, 3]\n",
      "The unique elements in the list are:  {1, 2, 3, 4, 5, 8}\n"
     ]
    }
   ],
   "source": [
    "input_list = [1, 5, 5, 4, 2, 8, 3, 3]\n",
    "\n",
    "unique_elements = list(set(input_list))\n",
    "\n",
    "print(\"The input list is: \", input_list)\n",
    "print(\"The unique elements in the list are: \", unique_elements)\n"
   ]
  },
  {
   "cell_type": "markdown",
   "id": "97ab3599",
   "metadata": {},
   "source": [
    "\n",
    "## Exercise 4 Calculate the sum over a container\n",
    "Write a script which handles an input container (i.e. a an object on which you can iterate) and returns the sum of the element inside it.\n",
    "\n",
    "e.g. given the following containers:\n",
    "```\n",
    "container1 = (1, 2, 5.2)\n",
    "container2 = [\"rick\", 2, 5.6]\n",
    "container3 = {1, 4, \"tommy\"}\n",
    "container4 = {\"a\": 2.2, \"b\": 5, \"c\": \"paul\"}\n",
    "```\n",
    "\n",
    "return the following sums:\n",
    "```\n",
    "container1 = 8.2\n",
    "container2 = 7.6\n",
    "container3 = 5\n",
    "container4 = 7.2\n",
    "```\n",
    "\n",
    "**Note:** If a dictionary is passed you have to consider the values and not the keys.\n",
    "\n"
   ]
  },
  {
   "cell_type": "code",
   "execution_count": 10,
   "id": "fbfc1b09",
   "metadata": {
    "ExecuteTime": {
     "end_time": "2023-10-02T20:50:36.580532600Z",
     "start_time": "2023-10-02T20:50:36.509417700Z"
    }
   },
   "outputs": [
    {
     "name": "stdout",
     "output_type": "stream",
     "text": [
      "8.2\n",
      "7.6\n",
      "5\n",
      "7.2\n"
     ]
    }
   ],
   "source": [
    "container1 = (1, 2, 5.2)\n",
    "container2 = [\"rick\", 2, 5.6]\n",
    "container3 = {1, 4, \"tommy\"}\n",
    "container4 = {\"a\": 2.2, \"b\": 5, \"c\": \"paul\"}\n",
    "\n",
    "\n",
    "# solution 1\n",
    "for container in [container1, container2, container3, container4]:\n",
    "    sum = 0\n",
    "    if type(container) == dict:\n",
    "        container = container.values()\n",
    "\n",
    "    for element in container:\n",
    "        if type(element) == int or type(element) == float:\n",
    "        #if isinstance(element, int) or if isinstance(element, float):\n",
    "            sum += element\n",
    "    print(sum)\n"
   ]
  }
 ],
 "metadata": {
  "kernelspec": {
   "display_name": "Python 3 (ipykernel)",
   "language": "python",
   "name": "python3"
  },
  "language_info": {
   "codemirror_mode": {
    "name": "ipython",
    "version": 3
   },
   "file_extension": ".py",
   "mimetype": "text/x-python",
   "name": "python",
   "nbconvert_exporter": "python",
   "pygments_lexer": "ipython3",
   "version": "3.10.12"
  }
 },
 "nbformat": 4,
 "nbformat_minor": 5
}

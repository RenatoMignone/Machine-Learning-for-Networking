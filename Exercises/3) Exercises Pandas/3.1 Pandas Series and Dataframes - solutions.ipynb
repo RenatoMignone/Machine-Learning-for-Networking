{
 "cells": [
  {
   "cell_type": "markdown",
   "id": "762e02b648977018",
   "metadata": {},
   "source": [
    "# Let's create some Pandas Series and Dataframes! \n",
    "In this notebook we will see how to create and access pandas series and dataframes."
   ]
  },
  {
   "cell_type": "markdown",
   "id": "48d8c0b572809d49",
   "metadata": {},
   "source": [
    "## Exercise 1 - Create and access a Pandas Series\n",
    "Create a pandas series with:\n",
    " - the following values:  [1, 3, 2, 7, 5, 4, 9] \n",
    " - indexed with the following fruit names: [\"apple\", \"orange\", \"cherry\", \"pear\", \"pineapple\", \"mango\", \"banana\"]\n",
    "\n",
    "Then print:\n",
    " - the first three elements of the series\n",
    " - all the values associated to a \"pear\" or a \"mango\"\n",
    " - all the indexes associated to a value greater than 5"
   ]
  },
  {
   "cell_type": "code",
   "execution_count": 12,
   "id": "cfb0052795aeab37",
   "metadata": {
    "ExecuteTime": {
     "end_time": "2023-10-19T15:16:28.495884200Z",
     "start_time": "2023-10-19T15:16:28.390115Z"
    }
   },
   "outputs": [
    {
     "name": "stdout",
     "output_type": "stream",
     "text": [
      "apple        1\n",
      "orange       3\n",
      "cherry       2\n",
      "pear         7\n",
      "pineapple    5\n",
      "mango        4\n",
      "banana       9\n",
      "dtype: int64\n",
      "\n",
      "First three elements of the series:\n",
      "apple     1\n",
      "orange    3\n",
      "cherry    2\n",
      "dtype: int64\n",
      "\n",
      "Values associated to index 'pear' or 'mango':\n",
      "[7 4]\n",
      "\n",
      "Indexes associated to a value greater than 5:\n",
      "Index(['pear', 'banana'], dtype='object')\n"
     ]
    }
   ],
   "source": [
    "import pandas as pd\n",
    "values = [1, 3, 2, 7, 5, 4, 9] \n",
    "fruits = [\"apple\", \"orange\", \"cherry\", \"pear\", \"pineapple\", \"mango\", \"banana\"]\n",
    "series = pd.Series(values, index=fruits)\n",
    "print(series)\n",
    "\n",
    "# first three elements of the series\n",
    "print(\"\\nFirst three elements of the series:\")\n",
    "print(series.iloc[:3]) # slicing\n",
    "# print(series.loc[:\"cherry\"])\n",
    "\n",
    "# values associated to index \"pear\" or \"mango\"\n",
    "print(\"\\nValues associated to index 'pear' or 'mango':\")\n",
    "print(series.loc[[\"pear\", \"mango\"]].values) # fancy indexing on the index (.loc)\n",
    "\n",
    "# indexes associated to a value greater than 5\n",
    "print(\"\\nIndexes associated to a value greater than 5:\")\n",
    "print(series.loc[series > 5].index) # masking on the entire series\n"
   ]
  },
  {
   "cell_type": "code",
   "execution_count": 8,
   "id": "b214ed41",
   "metadata": {},
   "outputs": [
    {
     "data": {
      "text/plain": [
       "numpy.int64"
      ]
     },
     "execution_count": 8,
     "metadata": {},
     "output_type": "execute_result"
    }
   ],
   "source": [
    "type(series['pear'])"
   ]
  },
  {
   "cell_type": "markdown",
   "id": "84b5a3b610d6f973",
   "metadata": {},
   "source": [
    "## Exercise 2 - Create and access a Pandas Dataframe\n",
    "Given the following input table  with 12 samples and  4 attributes:\n",
    "\n",
    "```\n",
    "[[5.1, 3.5, 1, 0.2],\n",
    "[4.3, 3. , 1, 0.1],\n",
    "[5. , 0. , 1, 0.4],\n",
    "[5.1, 3.4, 2, 0.2],\n",
    "[7.0, 3.2, 1, 0.2],\n",
    "[6.9, 3.1, 3, 1.5],\n",
    "[6.7, 3.1, 1, 2. ],\n",
    "[6. , 2.9, 2, 1.5],\n",
    "[6.1, 3. , 2, 1.4],\n",
    "[6.5, 3. , 3, 2.2],\n",
    "[7.7, 3.8, 3, 2.2],\n",
    "[7.4, 2.8, 1, 1.9],\n",
    "[6.8, 3.2, 1, 2.3]]\n",
    "```\n",
    "\n",
    "Given the following column names\n",
    "['height','width','intensity','weight']\n",
    "\n",
    "Comput the following:\n",
    "- Create a pandas dataframe with the given data and column names\n",
    "- Add a new composite feature, 'area' = 'width' * 'height'\n",
    "- Retrive the elements associated to an odd index\n",
    "- Retrieve the elements with area > 20\n",
    "\n",
    "\n",
    "\n"
   ]
  },
  {
   "cell_type": "code",
   "execution_count": 14,
   "id": "1e814cfcfe5d84a3",
   "metadata": {
    "ExecuteTime": {
     "end_time": "2023-10-19T15:22:15.823572200Z",
     "start_time": "2023-10-19T15:22:15.695023600Z"
    }
   },
   "outputs": [
    {
     "name": "stdout",
     "output_type": "stream",
     "text": [
      "    height  width  intensity  weight\n",
      "0      5.1    3.5        1.0     0.2\n",
      "1      4.3    3.0        1.0     0.1\n",
      "2      5.0    0.0        1.0     0.4\n",
      "3      5.1    3.4        2.0     0.2\n",
      "4      7.0    3.2        1.0     0.2\n",
      "5      6.9    3.1        3.0     1.5\n",
      "6      6.7    3.1        1.0     2.0\n",
      "7      6.0    2.9        2.0     1.5\n",
      "8      6.1    3.0        2.0     1.4\n",
      "9      6.5    3.0        3.0     2.2\n",
      "10     7.7    3.8        3.0     2.2\n",
      "11     7.4    2.8        1.0     1.9\n",
      "12     6.8    3.2        1.0     2.3\n",
      "Dataframe:\n",
      "    height  width  intensity  weight   area\n",
      "0      5.1    3.5        1.0     0.2  17.85\n",
      "1      4.3    3.0        1.0     0.1  12.90\n",
      "2      5.0    0.0        1.0     0.4   0.00\n",
      "3      5.1    3.4        2.0     0.2  17.34\n",
      "4      7.0    3.2        1.0     0.2  22.40\n",
      "5      6.9    3.1        3.0     1.5  21.39\n",
      "6      6.7    3.1        1.0     2.0  20.77\n",
      "7      6.0    2.9        2.0     1.5  17.40\n",
      "8      6.1    3.0        2.0     1.4  18.30\n",
      "9      6.5    3.0        3.0     2.2  19.50\n",
      "10     7.7    3.8        3.0     2.2  29.26\n",
      "11     7.4    2.8        1.0     1.9  20.72\n",
      "12     6.8    3.2        1.0     2.3  21.76\n",
      "\n",
      "Elements associated to an odd index:\n",
      "    height  width  intensity  weight   area\n",
      "1      4.3    3.0        1.0     0.1  12.90\n",
      "3      5.1    3.4        2.0     0.2  17.34\n",
      "5      6.9    3.1        3.0     1.5  21.39\n",
      "7      6.0    2.9        2.0     1.5  17.40\n",
      "9      6.5    3.0        3.0     2.2  19.50\n",
      "11     7.4    2.8        1.0     1.9  20.72\n",
      "\n",
      "Elements samples with area > 20:\n",
      "    height  width  intensity  weight   area\n",
      "4      7.0    3.2        1.0     0.2  22.40\n",
      "5      6.9    3.1        3.0     1.5  21.39\n",
      "6      6.7    3.1        1.0     2.0  20.77\n",
      "10     7.7    3.8        3.0     2.2  29.26\n",
      "11     7.4    2.8        1.0     1.9  20.72\n",
      "12     6.8    3.2        1.0     2.3  21.76\n",
      "\n",
      "Height and weight of samples with area > 20:\n",
      "    height  weight\n",
      "4      7.0     0.2\n",
      "5      6.9     1.5\n",
      "6      6.7     2.0\n",
      "10     7.7     2.2\n",
      "11     7.4     1.9\n",
      "12     6.8     2.3\n"
     ]
    }
   ],
   "source": [
    "import numpy as np\n",
    "\n",
    "# Input table (12 samples x 4 attributes)\n",
    "X = np.array([[5.1, 3.5, 1, 0.2],\n",
    "             [4.3, 3. , 1, 0.1],\n",
    "             [5. , 0. , 1, 0.4],\n",
    "             [5.1, 3.4, 2, 0.2],\n",
    "             [7.0, 3.2, 1, 0.2],\n",
    "             [6.9, 3.1, 3, 1.5],\n",
    "             [6.7, 3.1, 1, 2. ],\n",
    "             [6. , 2.9, 2, 1.5],\n",
    "             [6.1, 3. , 2, 1.4],\n",
    "             [6.5, 3. , 3, 2.2],\n",
    "             [7.7, 3.8, 3, 2.2],\n",
    "             [7.4, 2.8, 1, 1.9],\n",
    "             [6.8, 3.2, 1, 2.3]]\n",
    "            )\n",
    "# Column names\n",
    "columns = ['height','width','intensity','weight']\n",
    "\n",
    "# Create a pandas dataframe with the given data\n",
    "df = pd.DataFrame(X, columns=columns)\n",
    "print(df)\n",
    "\n",
    "# Add a new composite feature, 'area' = 'width' * 'height'\n",
    "df['area'] = df['width'] * df['height']\n",
    "\n",
    "print(\"Dataframe:\")\n",
    "print(df)\n",
    "\n",
    "# Retrive the elements associated to an odd index\n",
    "print(\"\\nElements associated to an odd index:\")\n",
    "print(df.loc[df.index % 2 == 1])\n",
    "# print(df.iloc[1::2])\n",
    "\n",
    "# Retrieve the elements samples with area > 20\n",
    "print(\"\\nElements samples with area > 20:\")\n",
    "mask = df['area'] > 20\n",
    "print(df.loc[mask])\n",
    "# print(df[df['area'] > 20]) # this also works, but it is not recommended\n",
    "\n",
    "# Retrieve the \"height\" and \"weight\" of the elements with area > 20\n",
    "print(\"\\nHeight and weight of samples with area > 20:\")\n",
    "print(df.loc[mask, [\"height\", \"weight\"]])\n"
   ]
  }
 ],
 "metadata": {
  "kernelspec": {
   "display_name": "Python 3 (ipykernel)",
   "language": "python",
   "name": "python3"
  },
  "language_info": {
   "codemirror_mode": {
    "name": "ipython",
    "version": 3
   },
   "file_extension": ".py",
   "mimetype": "text/x-python",
   "name": "python",
   "nbconvert_exporter": "python",
   "pygments_lexer": "ipython3",
   "version": "3.11.5"
  }
 },
 "nbformat": 4,
 "nbformat_minor": 5
}

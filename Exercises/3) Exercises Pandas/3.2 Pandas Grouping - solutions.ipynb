{
 "cells": [
  {
   "cell_type": "markdown",
   "id": "762e02b648977018",
   "metadata": {},
   "source": [
    "# Let's group IRIS data! \n",
    "In this notebook we will do again some analysis on IRIS but using grouping functions with Pandas"
   ]
  },
  {
   "cell_type": "markdown",
   "id": "48d8c0b572809d49",
   "metadata": {},
   "source": [
    "## Exercise 1 - Load the dataset\n",
    "Download the dataset and read it directly with pandas into a dataframe with the pd.read_csv function\n",
    "\"https://archive.ics.uci.edu/ml/machine-learning-databases/iris/iris.data\"\n"
   ]
  },
  {
   "cell_type": "code",
   "execution_count": 4,
   "id": "cfb0052795aeab37",
   "metadata": {
    "ExecuteTime": {
     "end_time": "2023-10-19T13:36:18.453487900Z",
     "start_time": "2023-10-19T13:36:17.625474200Z"
    }
   },
   "outputs": [
    {
     "name": "stdout",
     "output_type": "stream",
     "text": [
      "Dataframe: \n",
      "   sepal_length  sepal_width  petal_length  petal_width  label\n",
      "0           5.1          3.5           1.4          0.2      0\n",
      "1           4.9          3.0           1.4          0.2      0\n",
      "2           4.7          3.2           1.3          0.2      0\n",
      "3           4.6          3.1           1.5          0.2      0\n",
      "4           5.0          3.6           1.4          0.2      0\n",
      "5           5.4          3.9           1.7          0.4      0\n",
      "6           4.6          3.4           1.4          0.3      0\n",
      "7           5.0          3.4           1.5          0.2      0\n",
      "8           4.4          2.9           1.4          0.2      0\n",
      "9           4.9          3.1           1.5          0.1      0\n"
     ]
    }
   ],
   "source": [
    "import pandas as pd\n",
    "\n",
    "# Download the dataset and read it directly with pandas into a dataframe\n",
    "url = \"https://archive.ics.uci.edu/ml/machine-learning-databases/iris/iris.data\"\n",
    "column_names = [\"sepal_length\", \"sepal_width\", \"petal_length\", \"petal_width\", \"label\"]\n",
    "\n",
    "df = pd.read_csv(url, header=None) # no header in the file\n",
    "df.columns = column_names\n",
    "\n",
    "labels = ['Iris-setosa', 'Iris-versicolor', 'Iris-virginica']\n",
    "df['label'] = df['label'].map(lambda x: labels.index(x)) # it is not mandatory but it is useful for later\n",
    "\n",
    "print(\"Dataframe: \")\n",
    "print(df.head(10)) # to print only the first n=5 rows\n"
   ]
  },
  {
   "cell_type": "code",
   "execution_count": 3,
   "id": "99e1c3cb",
   "metadata": {},
   "outputs": [
    {
     "data": {
      "text/html": [
       "<div>\n",
       "<style scoped>\n",
       "    .dataframe tbody tr th:only-of-type {\n",
       "        vertical-align: middle;\n",
       "    }\n",
       "\n",
       "    .dataframe tbody tr th {\n",
       "        vertical-align: top;\n",
       "    }\n",
       "\n",
       "    .dataframe thead th {\n",
       "        text-align: right;\n",
       "    }\n",
       "</style>\n",
       "<table border=\"1\" class=\"dataframe\">\n",
       "  <thead>\n",
       "    <tr style=\"text-align: right;\">\n",
       "      <th></th>\n",
       "      <th>sepal_length</th>\n",
       "      <th>sepal_width</th>\n",
       "      <th>petal_length</th>\n",
       "      <th>petal_width</th>\n",
       "      <th>label</th>\n",
       "    </tr>\n",
       "  </thead>\n",
       "  <tbody>\n",
       "    <tr>\n",
       "      <th>0</th>\n",
       "      <td>5.1</td>\n",
       "      <td>3.5</td>\n",
       "      <td>1.4</td>\n",
       "      <td>0.2</td>\n",
       "      <td>0</td>\n",
       "    </tr>\n",
       "    <tr>\n",
       "      <th>1</th>\n",
       "      <td>4.9</td>\n",
       "      <td>3.0</td>\n",
       "      <td>1.4</td>\n",
       "      <td>0.2</td>\n",
       "      <td>0</td>\n",
       "    </tr>\n",
       "    <tr>\n",
       "      <th>2</th>\n",
       "      <td>4.7</td>\n",
       "      <td>3.2</td>\n",
       "      <td>1.3</td>\n",
       "      <td>0.2</td>\n",
       "      <td>0</td>\n",
       "    </tr>\n",
       "    <tr>\n",
       "      <th>3</th>\n",
       "      <td>4.6</td>\n",
       "      <td>3.1</td>\n",
       "      <td>1.5</td>\n",
       "      <td>0.2</td>\n",
       "      <td>0</td>\n",
       "    </tr>\n",
       "    <tr>\n",
       "      <th>4</th>\n",
       "      <td>5.0</td>\n",
       "      <td>3.6</td>\n",
       "      <td>1.4</td>\n",
       "      <td>0.2</td>\n",
       "      <td>0</td>\n",
       "    </tr>\n",
       "    <tr>\n",
       "      <th>...</th>\n",
       "      <td>...</td>\n",
       "      <td>...</td>\n",
       "      <td>...</td>\n",
       "      <td>...</td>\n",
       "      <td>...</td>\n",
       "    </tr>\n",
       "    <tr>\n",
       "      <th>145</th>\n",
       "      <td>6.7</td>\n",
       "      <td>3.0</td>\n",
       "      <td>5.2</td>\n",
       "      <td>2.3</td>\n",
       "      <td>2</td>\n",
       "    </tr>\n",
       "    <tr>\n",
       "      <th>146</th>\n",
       "      <td>6.3</td>\n",
       "      <td>2.5</td>\n",
       "      <td>5.0</td>\n",
       "      <td>1.9</td>\n",
       "      <td>2</td>\n",
       "    </tr>\n",
       "    <tr>\n",
       "      <th>147</th>\n",
       "      <td>6.5</td>\n",
       "      <td>3.0</td>\n",
       "      <td>5.2</td>\n",
       "      <td>2.0</td>\n",
       "      <td>2</td>\n",
       "    </tr>\n",
       "    <tr>\n",
       "      <th>148</th>\n",
       "      <td>6.2</td>\n",
       "      <td>3.4</td>\n",
       "      <td>5.4</td>\n",
       "      <td>2.3</td>\n",
       "      <td>2</td>\n",
       "    </tr>\n",
       "    <tr>\n",
       "      <th>149</th>\n",
       "      <td>5.9</td>\n",
       "      <td>3.0</td>\n",
       "      <td>5.1</td>\n",
       "      <td>1.8</td>\n",
       "      <td>2</td>\n",
       "    </tr>\n",
       "  </tbody>\n",
       "</table>\n",
       "<p>150 rows × 5 columns</p>\n",
       "</div>"
      ],
      "text/plain": [
       "     sepal_length  sepal_width  petal_length  petal_width  label\n",
       "0             5.1          3.5           1.4          0.2      0\n",
       "1             4.9          3.0           1.4          0.2      0\n",
       "2             4.7          3.2           1.3          0.2      0\n",
       "3             4.6          3.1           1.5          0.2      0\n",
       "4             5.0          3.6           1.4          0.2      0\n",
       "..            ...          ...           ...          ...    ...\n",
       "145           6.7          3.0           5.2          2.3      2\n",
       "146           6.3          2.5           5.0          1.9      2\n",
       "147           6.5          3.0           5.2          2.0      2\n",
       "148           6.2          3.4           5.4          2.3      2\n",
       "149           5.9          3.0           5.1          1.8      2\n",
       "\n",
       "[150 rows x 5 columns]"
      ]
     },
     "execution_count": 3,
     "metadata": {},
     "output_type": "execute_result"
    }
   ],
   "source": [
    "df"
   ]
  },
  {
   "cell_type": "markdown",
   "id": "ea4cbc089f5af738",
   "metadata": {},
   "source": [
    "## Exercise 2 - compute the mean and std \n",
    "Compute the mean and std of each feature for each class by grouping the classes"
   ]
  },
  {
   "cell_type": "code",
   "execution_count": 6,
   "id": "3b294178626ee8c3",
   "metadata": {
    "ExecuteTime": {
     "end_time": "2023-10-19T13:36:22.005517400Z",
     "start_time": "2023-10-19T13:36:21.950950700Z"
    }
   },
   "outputs": [
    {
     "name": "stdout",
     "output_type": "stream",
     "text": [
      "Means: \n",
      "       sepal_length  sepal_width  petal_length  petal_width\n",
      "label                                                      \n",
      "0             5.006        3.418         1.464        0.244\n",
      "1             5.936        2.770         4.260        1.326\n",
      "2             6.588        2.974         5.552        2.026\n",
      "Standard deviations: \n",
      "       sepal_length  sepal_width  petal_length  petal_width\n",
      "label                                                      \n",
      "0          0.352490     0.381024      0.173511     0.107210\n",
      "1          0.516171     0.313798      0.469911     0.197753\n",
      "2          0.635880     0.322497      0.551895     0.274650\n",
      "      sepal_length           sepal_width           petal_length            \\\n",
      "              mean       std        mean       std         mean       std   \n",
      "label                                                                       \n",
      "0            5.006  0.352490       3.418  0.381024        1.464  0.173511   \n",
      "1            5.936  0.516171       2.770  0.313798        4.260  0.469911   \n",
      "2            6.588  0.635880       2.974  0.322497        5.552  0.551895   \n",
      "\n",
      "      petal_width            \n",
      "             mean       std  \n",
      "label                        \n",
      "0           0.244  0.107210  \n",
      "1           1.326  0.197753  \n",
      "2           2.026  0.274650  \n"
     ]
    }
   ],
   "source": [
    "# Compute the mean of each feature by grouping for each class\n",
    "means = df.groupby('label').mean()\n",
    "std = df.groupby('label').std()\n",
    "\n",
    "print(\"Means: \")\n",
    "print(means)\n",
    "\n",
    "print(\"Standard deviations: \")\n",
    "print(std)\n",
    "\n",
    "means_and_std = df.groupby(\"label\").agg([\"mean\", \"std\"])\n",
    "print(means_and_std)\n"
   ]
  },
  {
   "cell_type": "markdown",
   "id": "e89a59ca906b0780",
   "metadata": {},
   "source": [
    "##  $(\\star)$ Exercise 3 - predict the class of a sample by computing the distance from the mean of each class\n",
    "- Create a function to compute the  distance of a sample from the mean of each class \n",
    "- Then create a new column in the dataset called \"predicted_label\" and assign the predicted class to each sample\n",
    "- Then compute the accuracy of the prediction\n",
    "\n",
    "**Note:** you must not iterate over the dataframe\n"
   ]
  },
  {
   "cell_type": "code",
   "execution_count": 4,
   "id": "6cae75624e6b4658",
   "metadata": {
    "ExecuteTime": {
     "end_time": "2023-10-19T13:36:00.323461200Z",
     "start_time": "2023-10-19T13:36:00.177267600Z"
    }
   },
   "outputs": [
    {
     "name": "stdout",
     "output_type": "stream",
     "text": [
      "Predicted labels: \n",
      "0      0\n",
      "1      0\n",
      "2      0\n",
      "3      0\n",
      "4      0\n",
      "      ..\n",
      "145    2\n",
      "146    2\n",
      "147    2\n",
      "148    2\n",
      "149    2\n",
      "Name: predicted_label, Length: 150, dtype: int64\n",
      "Accuracy:  0.9266666666666666\n"
     ]
    }
   ],
   "source": [
    "import numpy as np\n",
    "\n",
    "# Compute the distance of each sample from the mean of the three classes\n",
    "# and assign the class with the minimum distance\n",
    "def predict_class(samples, means):\n",
    "    distances = np.zeros((len(df), 3))\n",
    "    for i, label in enumerate(np.unique(df['label'])):\n",
    "        mean = means.loc[label] # select the mean of the corresponding label\n",
    "        distances[:, i] = np.linalg.norm(df_features - mean, axis=1) # for all samples compute the distance from the mean\n",
    "    return np.argmin(distances, axis=1) # for all samples return the index of the class having the lowest distance \n",
    "\n",
    "\n",
    "# Predict the class of each sample\n",
    "df_features = df[['sepal_length', 'sepal_width', 'petal_length', 'petal_width']] # select the features only\n",
    "predicted_labels = predict_class(df_features, means)\n",
    "df['predicted_label'] = predicted_labels\n",
    "\n",
    "print(\"Predicted labels: \")\n",
    "print(df['predicted_label'])\n",
    "\n",
    "\n",
    "# Compute the accuracy of the prediction\n",
    "accuracy = np.sum(df['label'] == df['predicted_label']) / len(df)\n",
    "print(\"Accuracy: \", accuracy)\n"
   ]
  }
 ],
 "metadata": {
  "kernelspec": {
   "display_name": "Python 3 (ipykernel)",
   "language": "python",
   "name": "python3"
  },
  "language_info": {
   "codemirror_mode": {
    "name": "ipython",
    "version": 3
   },
   "file_extension": ".py",
   "mimetype": "text/x-python",
   "name": "python",
   "nbconvert_exporter": "python",
   "pygments_lexer": "ipython3",
   "version": "3.11.5"
  }
 },
 "nbformat": 4,
 "nbformat_minor": 5
}

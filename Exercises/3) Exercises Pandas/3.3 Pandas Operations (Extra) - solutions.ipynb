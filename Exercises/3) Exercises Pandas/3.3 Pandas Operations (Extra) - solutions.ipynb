{
 "cells": [
  {
   "cell_type": "markdown",
   "id": "762e02b648977018",
   "metadata": {},
   "source": [
    "# Let's perform some operation on the IRIS dataframe! \n",
    "In this notebook we will see how to repeat in Pandas the operations with we did in the previous labs on numpy "
   ]
  },
  {
   "cell_type": "markdown",
   "id": "48d8c0b572809d49",
   "metadata": {},
   "source": [
    "## Exercise 1 - Download and read the IRIS dataset\n",
    "The Iris dataset we have met it already a number of times. \n",
    "You can download it from:\n",
    "https://archive.ics.uci.edu/ml/machine-learning-databases/iris/iris.data\n",
    "\n",
    "Remember: the file has no header, so you need to specify it when you read it.\n",
    "Since it has no header let's assign the following column names to it:\n",
    "- sepal_length\n",
    "- sepal_width\n",
    "- petal_length\n",
    "- petal_width\n",
    "- label"
   ]
  },
  {
   "cell_type": "code",
   "execution_count": 2,
   "id": "cfb0052795aeab37",
   "metadata": {
    "ExecuteTime": {
     "end_time": "2023-10-19T16:22:56.599361200Z",
     "start_time": "2023-10-19T16:22:56.518091Z"
    }
   },
   "outputs": [
    {
     "name": "stdout",
     "output_type": "stream",
     "text": [
      "Dataframe: \n",
      "   sepal_length  sepal_width  petal_length  petal_width        label\n",
      "0           5.1          3.5           1.4          0.2  Iris-setosa\n",
      "1           4.9          3.0           1.4          0.2  Iris-setosa\n",
      "2           4.7          3.2           1.3          0.2  Iris-setosa\n",
      "3           4.6          3.1           1.5          0.2  Iris-setosa\n",
      "4           5.0          3.6           1.4          0.2  Iris-setosa\n"
     ]
    }
   ],
   "source": [
    "import pandas as pd\n",
    "\n",
    "# Download the dataset and read it directly with pandas into a dataframe\n",
    "# url = \"https://archive.ics.uci.edu/ml/machine-learning-databases/iris/iris.data\"\n",
    "url = \"iris.data\"\n",
    "column_names = [\"sepal_length\", \"sepal_width\", \"petal_length\", \"petal_width\", \"label\"]\n",
    "\n",
    "df = pd.read_csv(url, header=None) # no header in the file\n",
    "df.columns = column_names\n",
    "\n",
    "print(\"Dataframe: \")\n",
    "print(df.head()) # to print only the first n=5 rows\n",
    "\n"
   ]
  },
  {
   "cell_type": "markdown",
   "id": "ea4cbc089f5af738",
   "metadata": {},
   "source": [
    "## Exercise 2 - Normalize feature by subtracting means and dividing by standard deviation\n",
    "For each feature, subtract the mean and divide by the standard deviation."
   ]
  },
  {
   "cell_type": "code",
   "execution_count": 1,
   "id": "3b294178626ee8c3",
   "metadata": {
    "ExecuteTime": {
     "end_time": "2023-10-19T16:26:17.235027700Z",
     "start_time": "2023-10-19T16:26:17.056753700Z"
    }
   },
   "outputs": [
    {
     "ename": "NameError",
     "evalue": "name 'df' is not defined",
     "output_type": "error",
     "traceback": [
      "\u001b[1;31m---------------------------------------------------------------------------\u001b[0m",
      "\u001b[1;31mNameError\u001b[0m                                 Traceback (most recent call last)",
      "Cell \u001b[1;32mIn[1], line 2\u001b[0m\n\u001b[0;32m      1\u001b[0m \u001b[38;5;66;03m# Normalize feature by subtracting means and dividing by standard deviation\u001b[39;00m\n\u001b[1;32m----> 2\u001b[0m operating_df \u001b[38;5;241m=\u001b[39m df\u001b[38;5;241m.\u001b[39mcopy()\n\u001b[0;32m      4\u001b[0m normalized_df2 \u001b[38;5;241m=\u001b[39m df\u001b[38;5;241m.\u001b[39mcopy()\n\u001b[0;32m      6\u001b[0m \u001b[38;5;66;03m# for feature in df.columns[:-1]:\u001b[39;00m\n\u001b[0;32m      7\u001b[0m \u001b[38;5;66;03m#     normalized_df2[feature] = (df[feature] - df[feature].mean()) / df[feature].std()\u001b[39;00m\n\u001b[0;32m      8\u001b[0m \u001b[38;5;66;03m# print(normalized_df2)\u001b[39;00m\n",
      "\u001b[1;31mNameError\u001b[0m: name 'df' is not defined"
     ]
    }
   ],
   "source": [
    "# Normalize feature by subtracting means and dividing by standard deviation\n",
    "operating_df = df.copy()\n",
    "\n",
    "normalized_df2 = df.copy()\n",
    "\n",
    "# for feature in df.columns[:-1]:\n",
    "#     normalized_df2[feature] = (df[feature] - df[feature].mean()) / df[feature].std()\n",
    "# print(normalized_df2)\n",
    "\n",
    "operating_df = operating_df.loc[:,df.columns[:-1]] # remove the label column\n",
    "means = df.mean()\n",
    "stds = df.std()\n",
    "\n",
    "normalized_df = (operating_df - means) / stds\n",
    "\n",
    "print(normalized_df)\n"
   ]
  },
  {
   "cell_type": "markdown",
   "id": "e89a59ca906b0780",
   "metadata": {},
   "source": [
    "## Exercise 3 - compute the distance of each sample from the mean of its class\n",
    "- Compute for each sample the distance of the sample from its class mean.\n",
    "- Then creates a new column in the dataframe, that contains the distance.\n",
    "- Finally, filter the rows with distance greater than 0.5. \n",
    "\n",
    "The last operation is a simple attempt of outlier detection and it is useful to avoid injecting noise in the data.\n"
   ]
  },
  {
   "cell_type": "code",
   "execution_count": 24,
   "id": "6cae75624e6b4658",
   "metadata": {
    "ExecuteTime": {
     "end_time": "2023-10-19T12:52:37.869508700Z",
     "start_time": "2023-10-19T12:52:37.788495700Z"
    }
   },
   "outputs": [
    {
     "name": "stdout",
     "output_type": "stream",
     "text": [
      "0      0.230849\n",
      "1      0.974879\n",
      "2      0.633484\n",
      "3      0.884316\n",
      "4      0.425300\n",
      "         ...   \n",
      "145    0.436571\n",
      "146    1.200482\n",
      "147    0.236326\n",
      "148    1.149414\n",
      "149    0.920452\n",
      "Name: distance, Length: 150, dtype: float64\n",
      "     sepal_length  sepal_width  petal_length  petal_width           label  \\\n",
      "0       -0.897674     1.028611     -1.336794    -1.308593     Iris-setosa   \n",
      "1       -1.139200    -0.124540     -1.336794    -1.308593     Iris-setosa   \n",
      "2       -1.380727     0.336720     -1.393470    -1.308593     Iris-setosa   \n",
      "3       -1.501490     0.106090     -1.280118    -1.308593     Iris-setosa   \n",
      "4       -1.018437     1.259242     -1.336794    -1.308593     Iris-setosa   \n",
      "..            ...          ...           ...          ...             ...   \n",
      "143      1.155302     0.336720      1.213619     1.443121  Iris-virginica   \n",
      "144      1.034539     0.567351      1.100267     1.705189  Iris-virginica   \n",
      "145      1.034539    -0.124540      0.816888     1.443121  Iris-virginica   \n",
      "147      0.793012    -0.124540      0.816888     1.050019  Iris-virginica   \n",
      "149      0.068433    -0.124540      0.760212     0.787951  Iris-virginica   \n",
      "\n",
      "     distance  \n",
      "0    0.230849  \n",
      "1    0.974879  \n",
      "2    0.633484  \n",
      "3    0.884316  \n",
      "4    0.425300  \n",
      "..        ...  \n",
      "143  0.710652  \n",
      "144  0.988121  \n",
      "145  0.436571  \n",
      "147  0.236326  \n",
      "149  0.920452  \n",
      "\n",
      "[96 rows x 6 columns]\n"
     ]
    }
   ],
   "source": [
    "# Compute the distance of each sample from the mean of its class\n",
    "import numpy as np\n",
    "\n",
    "df = normalized_df.copy()\n",
    "df['distance'] = 0 # distance is added as a new column and initialized to 0\n",
    "\n",
    "for label in np.unique(df['label']):\n",
    "    for feature in df.columns[:-2]:\n",
    "        class_df = df.loc[df[\"label\"] == label] # select rows corresponding to current label\n",
    "        df.loc[df[\"label\"] == label, 'distance'] += (class_df[feature] - class_df[feature].mean())**2\n",
    "df['distance'] = np.sqrt(df['distance'])    \n",
    "print(df['distance'])\n",
    "\n",
    "# Filter the rows with distance greater than standard deviation (i.e., 1)    \n",
    "print(df[df['distance'] < 1])"
   ]
  }
 ],
 "metadata": {
  "kernelspec": {
   "display_name": "Python 3 (ipykernel)",
   "language": "python",
   "name": "python3"
  },
  "language_info": {
   "codemirror_mode": {
    "name": "ipython",
    "version": 3
   },
   "file_extension": ".py",
   "mimetype": "text/x-python",
   "name": "python",
   "nbconvert_exporter": "python",
   "pygments_lexer": "ipython3",
   "version": "3.11.5"
  }
 },
 "nbformat": 4,
 "nbformat_minor": 5
}

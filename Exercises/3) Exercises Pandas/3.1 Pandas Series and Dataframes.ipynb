{
 "cells": [
  {
   "cell_type": "markdown",
   "id": "762e02b648977018",
   "metadata": {},
   "source": [
    "# Let's create some Pandas Series and Dataframes! \n",
    "In this notebook we will see how to create and access pandas series and dataframes."
   ]
  },
  {
   "cell_type": "markdown",
   "id": "48d8c0b572809d49",
   "metadata": {},
   "source": [
    "## Exercise 1 - Create and access a Pandas Series\n",
    "Create a pandas series with:\n",
    " - the following values:  [1, 3, 2, 7, 5, 4, 9] \n",
    " - indexed with the following fruit names: [\"apple\", \"orange\", \"cherry\", \"pear\", \"pineapple\", \"mango\", \"banana\"]\n",
    "\n",
    "Then print:\n",
    " - the three elements of the series\n",
    " - all the values associated to a \"pear\" or a \"mango\"\n",
    " - all the indexes associated to a value greater than 5"
   ]
  },
  {
   "cell_type": "code",
   "execution_count": 38,
   "id": "cfb0052795aeab37",
   "metadata": {
    "ExecuteTime": {
     "end_time": "2023-10-19T13:37:11.353030800Z",
     "start_time": "2023-10-19T13:37:11.304153600Z"
    }
   },
   "outputs": [],
   "source": []
  },
  {
   "cell_type": "markdown",
   "id": "84b5a3b610d6f973",
   "metadata": {},
   "source": [
    "## Exercise 2 - Create and access a Pandas Dataframe\n",
    "Given the following input table  with 12 samples and  4 attributes:\n",
    "\n",
    "```\n",
    "[[5.1, 3.5, 1, 0.2],\n",
    "[4.3, 3. , 1, 0.1],\n",
    "[5. , 0. , 1, 0.4],\n",
    "[5.1, 3.4, 2, 0.2],\n",
    "[7.0, 3.2, 1, 0.2],\n",
    "[6.9, 3.1, 3, 1.5],\n",
    "[6.7, 3.1, 1, 2. ],\n",
    "[6. , 2.9, 2, 1.5],\n",
    "[6.1, 3. , 2, 1.4],\n",
    "[6.5, 3. , 3, 2.2],\n",
    "[7.7, 3.8, 3, 2.2],\n",
    "[7.4, 2.8, 1, 1.9],\n",
    "[6.8, 3.2, 1, 2.3]]\n",
    "```\n",
    "\n",
    "Given the following column names\n",
    "['height','width','intensity','weight']\n",
    "\n",
    "Comput the following:\n",
    "- Create a pandas dataframe with the given data and column names\n",
    "- Add a new composite feature, 'area' = 'width' * 'height'\n",
    "- Retrive the elements associated to an odd index\n",
    "- Retrieve the elements samples with area > 20\n",
    "\n",
    "\n",
    "\n"
   ]
  },
  {
   "cell_type": "code",
   "execution_count": 38,
   "id": "1e814cfcfe5d84a3",
   "metadata": {
    "ExecuteTime": {
     "end_time": "2023-10-19T13:37:16.076749700Z",
     "start_time": "2023-10-19T13:37:16.006972Z"
    }
   },
   "outputs": [],
   "source": []
  }
 ],
 "metadata": {
  "kernelspec": {
   "display_name": "Python 3 (ipykernel)",
   "language": "python",
   "name": "python3"
  },
  "language_info": {
   "codemirror_mode": {
    "name": "ipython",
    "version": 3
   },
   "file_extension": ".py",
   "mimetype": "text/x-python",
   "name": "python",
   "nbconvert_exporter": "python",
   "pygments_lexer": "ipython3",
   "version": "3.11.5"
  }
 },
 "nbformat": 4,
 "nbformat_minor": 5
}

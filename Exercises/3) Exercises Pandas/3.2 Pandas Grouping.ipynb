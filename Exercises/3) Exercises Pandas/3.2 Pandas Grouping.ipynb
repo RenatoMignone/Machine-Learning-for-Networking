{
 "cells": [
  {
   "cell_type": "markdown",
   "id": "762e02b648977018",
   "metadata": {},
   "source": [
    "# Let's group IRIS data! \n",
    "In this notebook we will do again some analysis on IRIS but using grouping functions with Pandas"
   ]
  },
  {
   "cell_type": "markdown",
   "id": "48d8c0b572809d49",
   "metadata": {},
   "source": [
    "## Exercise 1 - Load the dataset\n",
    "Download the dataset and read it directly with pandas into a dataframe with the pd.read_csv function directly from:\n",
    "\"https://archive.ics.uci.edu/ml/machine-learning-databases/iris/iris.data\"\n",
    "\n",
    "Remember: the file has no header, so you need to specify it when you read it.\n",
    "Since it has no header let's assign the following column names to it:\n",
    "- sepal_length\n",
    "- sepal_width\n",
    "- petal_length\n",
    "- petal_width\n",
    "- label"
   ]
  },
  {
   "cell_type": "code",
   "execution_count": null,
   "id": "cfb0052795aeab37",
   "metadata": {
    "ExecuteTime": {
     "end_time": "2023-10-19T13:38:26.759842500Z",
     "start_time": "2023-10-19T13:38:26.664934Z"
    }
   },
   "outputs": [],
   "source": []
  },
  {
   "cell_type": "markdown",
   "id": "ea4cbc089f5af738",
   "metadata": {},
   "source": [
    "## Exercise 2 - compute the mean and std \n",
    "Compute the mean and std of each feature for each class by grouping the classes"
   ]
  },
  {
   "cell_type": "code",
   "execution_count": null,
   "id": "3b294178626ee8c3",
   "metadata": {
    "ExecuteTime": {
     "end_time": "2023-10-19T13:38:30.246869Z",
     "start_time": "2023-10-19T13:38:30.143241900Z"
    }
   },
   "outputs": [],
   "source": []
  },
  {
   "cell_type": "markdown",
   "id": "e89a59ca906b0780",
   "metadata": {},
   "source": [
    "## $(\\star)$ Exercise 3 - predict the class of a sample by computing the distance from the mean of each class\n",
    "- Create a function to compute the  distance of a sample from the mean of each class \n",
    "- Then create a new column in the dataset called \"predicted_label\" and assign the predicted class to each sample\n",
    "- Then compute the accuracy of the prediction\n",
    "\n",
    "**Note:** you must not iterate over the dataframe\n"
   ]
  },
  {
   "cell_type": "code",
   "execution_count": null,
   "id": "67554e8d",
   "metadata": {},
   "outputs": [],
   "source": []
  }
 ],
 "metadata": {
  "kernelspec": {
   "display_name": "Python 3 (ipykernel)",
   "language": "python",
   "name": "python3"
  },
  "language_info": {
   "codemirror_mode": {
    "name": "ipython",
    "version": 3
   },
   "file_extension": ".py",
   "mimetype": "text/x-python",
   "name": "python",
   "nbconvert_exporter": "python",
   "pygments_lexer": "ipython3",
   "version": "3.11.5"
  }
 },
 "nbformat": 4,
 "nbformat_minor": 5
}
